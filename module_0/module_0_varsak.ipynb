{
 "cells": [
  {
   "cell_type": "code",
   "execution_count": 4,
   "metadata": {},
   "outputs": [
    {
     "name": "stdout",
     "output_type": "stream",
     "text": [
      "Ваш алгоритм угадывает число в среднем за 5 попыток\n"
     ]
    },
    {
     "data": {
      "text/plain": [
       "5"
      ]
     },
     "execution_count": 4,
     "metadata": {},
     "output_type": "execute_result"
    }
   ],
   "source": [
    "import numpy as np\n",
    "\n",
    "\n",
    "def game_core(number):\n",
    "    '''Устанавливаем любое число, а затем сокращаем диапазон искомых значений \n",
    "    в зависимости от того, больше или меньше оно середины диапазона'''\n",
    "\n",
    "    range_min = 1  # начало диапазона\n",
    "    range_max = 100  # конец диапазона\n",
    "    range_middle = (range_min+range_max) // 2  # середина диапазона\n",
    "\n",
    "    # загадываем число в диапазоне\n",
    "    predict = np.random.randint(range_min, range_max+1)\n",
    "    tries = 1  # счетчик числа попыток\n",
    "\n",
    "    while predict != range_middle:\n",
    "        tries += 1  # засчитываем попытку\n",
    "        # Проверяем, больше или меньше число середины диапазона\n",
    "        if predict > range_middle:\n",
    "            #сужаем диапазон к максимальной границе\n",
    "            range_min = range_middle + 1\n",
    "        else:\n",
    "            #сужаем диапазон к минимальной границе\n",
    "            range_max = range_middle - 1\n",
    "   \n",
    "        # Формируем новое значение середины диапазона\n",
    "        range_middle = (range_min + range_max) // 2\n",
    "    return(tries)  # выход из цикла, если число угадано\n",
    "\n",
    "\n",
    "def score_game(game_core):  # функция для тестирования из задания\n",
    "    '''Запускаем игру 1000 раз, чтобы узнать, как быстро игра угадывает число'''\n",
    "    count_ls = []\n",
    "    np.random.seed(1)  # фиксир RANDOM SEED, чтобы ваш эксперимент был воспроизводим!\n",
    "    random_array = np.random.randint(1, 101, size=(1000))\n",
    "    for number in random_array:\n",
    "        count_ls.append(game_core(number))\n",
    "    score = int(np.mean(count_ls))\n",
    "    print(f\"Ваш алгоритм угадывает число в среднем за {score} попыток\")\n",
    "    return(score)\n",
    "\n",
    "score_game(game_core)  # тестируем\n"
   ]
  }
 ],
 "metadata": {
  "kernelspec": {
   "display_name": "Python 3",
   "language": "python",
   "name": "python3"
  },
  "language_info": {
   "codemirror_mode": {
    "name": "ipython",
    "version": 3
   },
   "file_extension": ".py",
   "mimetype": "text/x-python",
   "name": "python",
   "nbconvert_exporter": "python",
   "pygments_lexer": "ipython3",
   "version": "3.8.5"
  }
 },
 "nbformat": 4,
 "nbformat_minor": 4
}
