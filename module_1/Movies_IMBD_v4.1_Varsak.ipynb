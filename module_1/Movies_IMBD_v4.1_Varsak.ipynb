{
 "cells": [
  {
   "cell_type": "code",
   "execution_count": 1,
   "metadata": {
    "_cell_guid": "b1076dfc-b9ad-4769-8c92-a6c4dae69d19",
    "_uuid": "8f2839f25d086af736a60e9eeb907d3b93b6e0e5",
    "colab": {},
    "colab_type": "code",
    "id": "U2D2gTdJVp90"
   },
   "outputs": [],
   "source": [
    "import numpy as np\n",
    "import pandas as pd\n",
    "import seaborn as sns\n",
    "import matplotlib.pyplot as plt\n",
    "import itertools\n",
    "from itertools import combinations\n",
    "from collections import Counter"
   ]
  },
  {
   "cell_type": "code",
   "execution_count": 2,
   "metadata": {
    "_cell_guid": "79c7e3d0-c299-4dcb-8224-4455121ee9b0",
    "_uuid": "d629ff2d2480ee46fbb7e2d37f6b5fab8052498a",
    "colab": {},
    "colab_type": "code",
    "id": "oyGfxL3eVp9-"
   },
   "outputs": [
    {
     "data": {
      "text/html": [
       "<div>\n",
       "<style scoped>\n",
       "    .dataframe tbody tr th:only-of-type {\n",
       "        vertical-align: middle;\n",
       "    }\n",
       "\n",
       "    .dataframe tbody tr th {\n",
       "        vertical-align: top;\n",
       "    }\n",
       "\n",
       "    .dataframe thead th {\n",
       "        text-align: right;\n",
       "    }\n",
       "</style>\n",
       "<table border=\"1\" class=\"dataframe\">\n",
       "  <thead>\n",
       "    <tr style=\"text-align: right;\">\n",
       "      <th></th>\n",
       "      <th>imdb_id</th>\n",
       "      <th>budget</th>\n",
       "      <th>revenue</th>\n",
       "      <th>original_title</th>\n",
       "      <th>cast</th>\n",
       "      <th>director</th>\n",
       "      <th>tagline</th>\n",
       "      <th>overview</th>\n",
       "      <th>runtime</th>\n",
       "      <th>genres</th>\n",
       "      <th>production_companies</th>\n",
       "      <th>release_date</th>\n",
       "      <th>vote_average</th>\n",
       "      <th>release_year</th>\n",
       "    </tr>\n",
       "  </thead>\n",
       "  <tbody>\n",
       "    <tr>\n",
       "      <th>23</th>\n",
       "      <td>tt2322441</td>\n",
       "      <td>40000000</td>\n",
       "      <td>569651467</td>\n",
       "      <td>Fifty Shades of Grey</td>\n",
       "      <td>Dakota Johnson|Jamie Dornan|Jennifer Ehle|Eloi...</td>\n",
       "      <td>Sam Taylor-Johnson</td>\n",
       "      <td>Are you curious?</td>\n",
       "      <td>When college senior Anastasia Steele steps in ...</td>\n",
       "      <td>125</td>\n",
       "      <td>Drama|Romance</td>\n",
       "      <td>Focus Features|Trigger Street Productions|Mich...</td>\n",
       "      <td>2/11/2015</td>\n",
       "      <td>5.3</td>\n",
       "      <td>2015</td>\n",
       "    </tr>\n",
       "    <tr>\n",
       "      <th>397</th>\n",
       "      <td>tt0814255</td>\n",
       "      <td>95000000</td>\n",
       "      <td>226497209</td>\n",
       "      <td>Percy Jackson &amp; the Olympians: The Lightning T...</td>\n",
       "      <td>Logan Lerman|Brandon T. Jackson|Alexandra Dadd...</td>\n",
       "      <td>Chris Columbus</td>\n",
       "      <td>Worlds Collide</td>\n",
       "      <td>Accident prone teenager, Percy discovers he's ...</td>\n",
       "      <td>118</td>\n",
       "      <td>Adventure|Fantasy|Family</td>\n",
       "      <td>Ingenious Film Partners|1492 Pictures|Dune Ent...</td>\n",
       "      <td>2/1/2010</td>\n",
       "      <td>6.0</td>\n",
       "      <td>2010</td>\n",
       "    </tr>\n",
       "    <tr>\n",
       "      <th>1458</th>\n",
       "      <td>tt0414982</td>\n",
       "      <td>25000000</td>\n",
       "      <td>117719158</td>\n",
       "      <td>Final Destination 3</td>\n",
       "      <td>Mary Elizabeth Winstead|Ryan Merriman|Kris Lem...</td>\n",
       "      <td>James Wong</td>\n",
       "      <td>This Ride Will Be The Death Of You.</td>\n",
       "      <td>A student's premonition of a deadly rollercoas...</td>\n",
       "      <td>93</td>\n",
       "      <td>Horror|Mystery</td>\n",
       "      <td>New Line Cinema|Zide-Perry Productions|Kumar M...</td>\n",
       "      <td>2/10/2006</td>\n",
       "      <td>5.8</td>\n",
       "      <td>2006</td>\n",
       "    </tr>\n",
       "    <tr>\n",
       "      <th>1666</th>\n",
       "      <td>tt0359517</td>\n",
       "      <td>12000000</td>\n",
       "      <td>31179516</td>\n",
       "      <td>Johnson Family Vacation</td>\n",
       "      <td>Cedric the Entertainer|Vanessa Williams|Steve ...</td>\n",
       "      <td>Christopher Erskin</td>\n",
       "      <td>Take the ride.</td>\n",
       "      <td>AAA can't help the roadside emergency that is ...</td>\n",
       "      <td>97</td>\n",
       "      <td>Comedy|Family</td>\n",
       "      <td>Fox Searchlight Pictures|Bird and a Bear Enter...</td>\n",
       "      <td>4/7/2004</td>\n",
       "      <td>5.3</td>\n",
       "      <td>2004</td>\n",
       "    </tr>\n",
       "    <tr>\n",
       "      <th>1094</th>\n",
       "      <td>tt0328828</td>\n",
       "      <td>55000000</td>\n",
       "      <td>231449203</td>\n",
       "      <td>American Wedding</td>\n",
       "      <td>Jason Biggs|Alyson Hannigan|Seann William Scot...</td>\n",
       "      <td>Jesse Dylan</td>\n",
       "      <td>Forever hold your piece.</td>\n",
       "      <td>With high school a distant memory, Jim and Mic...</td>\n",
       "      <td>103</td>\n",
       "      <td>Comedy|Romance</td>\n",
       "      <td>Universal Pictures|Zide-Perry Productions|Live...</td>\n",
       "      <td>8/1/2003</td>\n",
       "      <td>6.0</td>\n",
       "      <td>2003</td>\n",
       "    </tr>\n",
       "  </tbody>\n",
       "</table>\n",
       "</div>"
      ],
      "text/plain": [
       "        imdb_id    budget    revenue  \\\n",
       "23    tt2322441  40000000  569651467   \n",
       "397   tt0814255  95000000  226497209   \n",
       "1458  tt0414982  25000000  117719158   \n",
       "1666  tt0359517  12000000   31179516   \n",
       "1094  tt0328828  55000000  231449203   \n",
       "\n",
       "                                         original_title  \\\n",
       "23                                 Fifty Shades of Grey   \n",
       "397   Percy Jackson & the Olympians: The Lightning T...   \n",
       "1458                                Final Destination 3   \n",
       "1666                            Johnson Family Vacation   \n",
       "1094                                   American Wedding   \n",
       "\n",
       "                                                   cast            director  \\\n",
       "23    Dakota Johnson|Jamie Dornan|Jennifer Ehle|Eloi...  Sam Taylor-Johnson   \n",
       "397   Logan Lerman|Brandon T. Jackson|Alexandra Dadd...      Chris Columbus   \n",
       "1458  Mary Elizabeth Winstead|Ryan Merriman|Kris Lem...          James Wong   \n",
       "1666  Cedric the Entertainer|Vanessa Williams|Steve ...  Christopher Erskin   \n",
       "1094  Jason Biggs|Alyson Hannigan|Seann William Scot...         Jesse Dylan   \n",
       "\n",
       "                                  tagline  \\\n",
       "23                       Are you curious?   \n",
       "397                        Worlds Collide   \n",
       "1458  This Ride Will Be The Death Of You.   \n",
       "1666                       Take the ride.   \n",
       "1094             Forever hold your piece.   \n",
       "\n",
       "                                               overview  runtime  \\\n",
       "23    When college senior Anastasia Steele steps in ...      125   \n",
       "397   Accident prone teenager, Percy discovers he's ...      118   \n",
       "1458  A student's premonition of a deadly rollercoas...       93   \n",
       "1666  AAA can't help the roadside emergency that is ...       97   \n",
       "1094  With high school a distant memory, Jim and Mic...      103   \n",
       "\n",
       "                        genres  \\\n",
       "23               Drama|Romance   \n",
       "397   Adventure|Fantasy|Family   \n",
       "1458            Horror|Mystery   \n",
       "1666             Comedy|Family   \n",
       "1094            Comedy|Romance   \n",
       "\n",
       "                                   production_companies release_date  \\\n",
       "23    Focus Features|Trigger Street Productions|Mich...    2/11/2015   \n",
       "397   Ingenious Film Partners|1492 Pictures|Dune Ent...     2/1/2010   \n",
       "1458  New Line Cinema|Zide-Perry Productions|Kumar M...    2/10/2006   \n",
       "1666  Fox Searchlight Pictures|Bird and a Bear Enter...     4/7/2004   \n",
       "1094  Universal Pictures|Zide-Perry Productions|Live...     8/1/2003   \n",
       "\n",
       "      vote_average  release_year  \n",
       "23             5.3          2015  \n",
       "397            6.0          2010  \n",
       "1458           5.8          2006  \n",
       "1666           5.3          2004  \n",
       "1094           6.0          2003  "
      ]
     },
     "execution_count": 2,
     "metadata": {},
     "output_type": "execute_result"
    }
   ],
   "source": [
    "# Загружаем данные\n",
    "data = pd.read_csv('movie_bd_v5.csv')\n",
    "\n",
    "data.sample(5)  # посмотрим на данные"
   ]
  },
  {
   "cell_type": "code",
   "execution_count": 6,
   "metadata": {
    "colab": {},
    "colab_type": "code",
    "id": "CoYUnagMVp-C",
    "scrolled": true
   },
   "outputs": [
    {
     "data": {
      "text/html": [
       "<div>\n",
       "<style scoped>\n",
       "    .dataframe tbody tr th:only-of-type {\n",
       "        vertical-align: middle;\n",
       "    }\n",
       "\n",
       "    .dataframe tbody tr th {\n",
       "        vertical-align: top;\n",
       "    }\n",
       "\n",
       "    .dataframe thead th {\n",
       "        text-align: right;\n",
       "    }\n",
       "</style>\n",
       "<table border=\"1\" class=\"dataframe\">\n",
       "  <thead>\n",
       "    <tr style=\"text-align: right;\">\n",
       "      <th></th>\n",
       "      <th>budget</th>\n",
       "      <th>revenue</th>\n",
       "      <th>runtime</th>\n",
       "      <th>vote_average</th>\n",
       "      <th>release_year</th>\n",
       "    </tr>\n",
       "  </thead>\n",
       "  <tbody>\n",
       "    <tr>\n",
       "      <th>count</th>\n",
       "      <td>1.889000e+03</td>\n",
       "      <td>1.889000e+03</td>\n",
       "      <td>1889.000000</td>\n",
       "      <td>1889.000000</td>\n",
       "      <td>1889.000000</td>\n",
       "    </tr>\n",
       "    <tr>\n",
       "      <th>mean</th>\n",
       "      <td>5.431083e+07</td>\n",
       "      <td>1.553653e+08</td>\n",
       "      <td>109.658549</td>\n",
       "      <td>6.140762</td>\n",
       "      <td>2007.860773</td>\n",
       "    </tr>\n",
       "    <tr>\n",
       "      <th>std</th>\n",
       "      <td>4.858721e+07</td>\n",
       "      <td>2.146698e+08</td>\n",
       "      <td>18.017041</td>\n",
       "      <td>0.764763</td>\n",
       "      <td>4.468841</td>\n",
       "    </tr>\n",
       "    <tr>\n",
       "      <th>min</th>\n",
       "      <td>5.000000e+06</td>\n",
       "      <td>2.033165e+06</td>\n",
       "      <td>63.000000</td>\n",
       "      <td>3.300000</td>\n",
       "      <td>2000.000000</td>\n",
       "    </tr>\n",
       "    <tr>\n",
       "      <th>25%</th>\n",
       "      <td>2.000000e+07</td>\n",
       "      <td>3.456058e+07</td>\n",
       "      <td>97.000000</td>\n",
       "      <td>5.600000</td>\n",
       "      <td>2004.000000</td>\n",
       "    </tr>\n",
       "    <tr>\n",
       "      <th>50%</th>\n",
       "      <td>3.800000e+07</td>\n",
       "      <td>8.361541e+07</td>\n",
       "      <td>107.000000</td>\n",
       "      <td>6.100000</td>\n",
       "      <td>2008.000000</td>\n",
       "    </tr>\n",
       "    <tr>\n",
       "      <th>75%</th>\n",
       "      <td>7.200000e+07</td>\n",
       "      <td>1.782626e+08</td>\n",
       "      <td>120.000000</td>\n",
       "      <td>6.600000</td>\n",
       "      <td>2012.000000</td>\n",
       "    </tr>\n",
       "    <tr>\n",
       "      <th>max</th>\n",
       "      <td>3.800000e+08</td>\n",
       "      <td>2.781506e+09</td>\n",
       "      <td>214.000000</td>\n",
       "      <td>8.100000</td>\n",
       "      <td>2015.000000</td>\n",
       "    </tr>\n",
       "  </tbody>\n",
       "</table>\n",
       "</div>"
      ],
      "text/plain": [
       "             budget       revenue      runtime  vote_average  release_year\n",
       "count  1.889000e+03  1.889000e+03  1889.000000   1889.000000   1889.000000\n",
       "mean   5.431083e+07  1.553653e+08   109.658549      6.140762   2007.860773\n",
       "std    4.858721e+07  2.146698e+08    18.017041      0.764763      4.468841\n",
       "min    5.000000e+06  2.033165e+06    63.000000      3.300000   2000.000000\n",
       "25%    2.000000e+07  3.456058e+07    97.000000      5.600000   2004.000000\n",
       "50%    3.800000e+07  8.361541e+07   107.000000      6.100000   2008.000000\n",
       "75%    7.200000e+07  1.782626e+08   120.000000      6.600000   2012.000000\n",
       "max    3.800000e+08  2.781506e+09   214.000000      8.100000   2015.000000"
      ]
     },
     "execution_count": 6,
     "metadata": {},
     "output_type": "execute_result"
    }
   ],
   "source": [
    "data.describe() # просмотр базовых статистик в числовых колонках"
   ]
  },
  {
   "cell_type": "markdown",
   "metadata": {
    "colab_type": "text",
    "id": "DTIt7ezGVp-G"
   },
   "source": [
    "# Предобработка"
   ]
  },
  {
   "cell_type": "code",
   "execution_count": 3,
   "metadata": {
    "colab": {},
    "colab_type": "code",
    "id": "jNb40DwKVp-H"
   },
   "outputs": [
    {
     "data": {
      "text/html": [
       "<div>\n",
       "<style scoped>\n",
       "    .dataframe tbody tr th:only-of-type {\n",
       "        vertical-align: middle;\n",
       "    }\n",
       "\n",
       "    .dataframe tbody tr th {\n",
       "        vertical-align: top;\n",
       "    }\n",
       "\n",
       "    .dataframe thead th {\n",
       "        text-align: right;\n",
       "    }\n",
       "</style>\n",
       "<table border=\"1\" class=\"dataframe\">\n",
       "  <thead>\n",
       "    <tr style=\"text-align: right;\">\n",
       "      <th></th>\n",
       "      <th>imdb_id</th>\n",
       "      <th>budget</th>\n",
       "      <th>revenue</th>\n",
       "      <th>original_title</th>\n",
       "      <th>cast</th>\n",
       "      <th>director</th>\n",
       "      <th>tagline</th>\n",
       "      <th>overview</th>\n",
       "      <th>runtime</th>\n",
       "      <th>genres</th>\n",
       "      <th>production_companies</th>\n",
       "      <th>release_date</th>\n",
       "      <th>vote_average</th>\n",
       "      <th>release_year</th>\n",
       "      <th>profit</th>\n",
       "      <th>title_len</th>\n",
       "      <th>overview_len</th>\n",
       "      <th>cast_split</th>\n",
       "      <th>cast_together</th>\n",
       "    </tr>\n",
       "  </thead>\n",
       "  <tbody>\n",
       "    <tr>\n",
       "      <th>1186</th>\n",
       "      <td>tt1170358</td>\n",
       "      <td>250000000</td>\n",
       "      <td>958400000</td>\n",
       "      <td>The Hobbit: The Desolation of Smaug</td>\n",
       "      <td>Martin Freeman|Ian McKellen|Richard Armitage|K...</td>\n",
       "      <td>Peter Jackson</td>\n",
       "      <td>Beyond darkness... beyond desolation... lies t...</td>\n",
       "      <td>The Dwarves, Bilbo and Gandalf have successful...</td>\n",
       "      <td>161</td>\n",
       "      <td>Adventure|Fantasy</td>\n",
       "      <td>WingNut Films|New Line Cinema|Metro-Goldwyn-Ma...</td>\n",
       "      <td>2013-12-11</td>\n",
       "      <td>7.6</td>\n",
       "      <td>2013</td>\n",
       "      <td>708400000</td>\n",
       "      <td>35</td>\n",
       "      <td>191</td>\n",
       "      <td>[Martin Freeman, Ian McKellen, Richard Armitag...</td>\n",
       "      <td>[(Martin Freeman, Ian McKellen), (Martin Freem...</td>\n",
       "    </tr>\n",
       "    <tr>\n",
       "      <th>1110</th>\n",
       "      <td>tt0311113</td>\n",
       "      <td>150000000</td>\n",
       "      <td>212011111</td>\n",
       "      <td>Master and Commander: The Far Side of the World</td>\n",
       "      <td>Russell Crowe|Paul Bettany|James D'Arcy|Billy ...</td>\n",
       "      <td>Peter Weir</td>\n",
       "      <td>The Courage to Do the Impossible Lies in the H...</td>\n",
       "      <td>After an abrupt and violent encounter with a F...</td>\n",
       "      <td>138</td>\n",
       "      <td>Adventure</td>\n",
       "      <td>Universal Pictures|Twentieth Century Fox Film ...</td>\n",
       "      <td>2003-11-14</td>\n",
       "      <td>6.6</td>\n",
       "      <td>2003</td>\n",
       "      <td>62011111</td>\n",
       "      <td>47</td>\n",
       "      <td>370</td>\n",
       "      <td>[Russell Crowe, Paul Bettany, James D'Arcy, Bi...</td>\n",
       "      <td>[(Russell Crowe, Paul Bettany), (Russell Crowe...</td>\n",
       "    </tr>\n",
       "    <tr>\n",
       "      <th>1761</th>\n",
       "      <td>tt0419843</td>\n",
       "      <td>10000000</td>\n",
       "      <td>17500000</td>\n",
       "      <td>In the Land of Women</td>\n",
       "      <td>Meg Ryan|Kristen Stewart|Adam Brody|JoBeth Wil...</td>\n",
       "      <td>Jon Kasdan</td>\n",
       "      <td>Get ready to fall</td>\n",
       "      <td>After a bad breakup with his girlfriend leaves...</td>\n",
       "      <td>97</td>\n",
       "      <td>Romance|Comedy|Drama</td>\n",
       "      <td>Castle Rock Entertainment|Land Films Inc.|Anon...</td>\n",
       "      <td>2007-04-16</td>\n",
       "      <td>6.0</td>\n",
       "      <td>2007</td>\n",
       "      <td>7500000</td>\n",
       "      <td>20</td>\n",
       "      <td>231</td>\n",
       "      <td>[Meg Ryan, Kristen Stewart, Adam Brody, JoBeth...</td>\n",
       "      <td>[(Meg Ryan, Kristen Stewart), (Meg Ryan, Adam ...</td>\n",
       "    </tr>\n",
       "    <tr>\n",
       "      <th>1132</th>\n",
       "      <td>tt0349205</td>\n",
       "      <td>40000000</td>\n",
       "      <td>190212113</td>\n",
       "      <td>Cheaper by the Dozen</td>\n",
       "      <td>Steve Martin|Bonnie Hunt|Piper Perabo|Tom Well...</td>\n",
       "      <td>Shawn Levy</td>\n",
       "      <td>Growing pains? They've got twelve of them!</td>\n",
       "      <td>The Baker brood moves to Chicago after patriar...</td>\n",
       "      <td>98</td>\n",
       "      <td>Comedy|Drama|Family</td>\n",
       "      <td>Twentieth Century Fox Film Corporation|Robert ...</td>\n",
       "      <td>2003-12-24</td>\n",
       "      <td>5.8</td>\n",
       "      <td>2003</td>\n",
       "      <td>150212113</td>\n",
       "      <td>20</td>\n",
       "      <td>331</td>\n",
       "      <td>[Steve Martin, Bonnie Hunt, Piper Perabo, Tom ...</td>\n",
       "      <td>[(Steve Martin, Bonnie Hunt), (Steve Martin, P...</td>\n",
       "    </tr>\n",
       "    <tr>\n",
       "      <th>1480</th>\n",
       "      <td>tt0418689</td>\n",
       "      <td>90000000</td>\n",
       "      <td>65900249</td>\n",
       "      <td>Flags of Our Fathers</td>\n",
       "      <td>Ryan Phillippe|Adam Beach|Jesse Bradford|John ...</td>\n",
       "      <td>Clint Eastwood</td>\n",
       "      <td>They fight for their country but they die for ...</td>\n",
       "      <td>There were five Marines and one Navy Corpsman ...</td>\n",
       "      <td>132</td>\n",
       "      <td>War|Drama|History</td>\n",
       "      <td>DreamWorks SKG|Amblin Entertainment|Malpaso Pr...</td>\n",
       "      <td>2006-10-19</td>\n",
       "      <td>6.7</td>\n",
       "      <td>2006</td>\n",
       "      <td>-24099751</td>\n",
       "      <td>20</td>\n",
       "      <td>317</td>\n",
       "      <td>[Ryan Phillippe, Adam Beach, Jesse Bradford, J...</td>\n",
       "      <td>[(Ryan Phillippe, Adam Beach), (Ryan Phillippe...</td>\n",
       "    </tr>\n",
       "  </tbody>\n",
       "</table>\n",
       "</div>"
      ],
      "text/plain": [
       "        imdb_id     budget    revenue  \\\n",
       "1186  tt1170358  250000000  958400000   \n",
       "1110  tt0311113  150000000  212011111   \n",
       "1761  tt0419843   10000000   17500000   \n",
       "1132  tt0349205   40000000  190212113   \n",
       "1480  tt0418689   90000000   65900249   \n",
       "\n",
       "                                       original_title  \\\n",
       "1186              The Hobbit: The Desolation of Smaug   \n",
       "1110  Master and Commander: The Far Side of the World   \n",
       "1761                             In the Land of Women   \n",
       "1132                             Cheaper by the Dozen   \n",
       "1480                             Flags of Our Fathers   \n",
       "\n",
       "                                                   cast        director  \\\n",
       "1186  Martin Freeman|Ian McKellen|Richard Armitage|K...   Peter Jackson   \n",
       "1110  Russell Crowe|Paul Bettany|James D'Arcy|Billy ...      Peter Weir   \n",
       "1761  Meg Ryan|Kristen Stewart|Adam Brody|JoBeth Wil...      Jon Kasdan   \n",
       "1132  Steve Martin|Bonnie Hunt|Piper Perabo|Tom Well...      Shawn Levy   \n",
       "1480  Ryan Phillippe|Adam Beach|Jesse Bradford|John ...  Clint Eastwood   \n",
       "\n",
       "                                                tagline  \\\n",
       "1186  Beyond darkness... beyond desolation... lies t...   \n",
       "1110  The Courage to Do the Impossible Lies in the H...   \n",
       "1761                                  Get ready to fall   \n",
       "1132         Growing pains? They've got twelve of them!   \n",
       "1480  They fight for their country but they die for ...   \n",
       "\n",
       "                                               overview  runtime  \\\n",
       "1186  The Dwarves, Bilbo and Gandalf have successful...      161   \n",
       "1110  After an abrupt and violent encounter with a F...      138   \n",
       "1761  After a bad breakup with his girlfriend leaves...       97   \n",
       "1132  The Baker brood moves to Chicago after patriar...       98   \n",
       "1480  There were five Marines and one Navy Corpsman ...      132   \n",
       "\n",
       "                    genres                               production_companies  \\\n",
       "1186     Adventure|Fantasy  WingNut Films|New Line Cinema|Metro-Goldwyn-Ma...   \n",
       "1110             Adventure  Universal Pictures|Twentieth Century Fox Film ...   \n",
       "1761  Romance|Comedy|Drama  Castle Rock Entertainment|Land Films Inc.|Anon...   \n",
       "1132   Comedy|Drama|Family  Twentieth Century Fox Film Corporation|Robert ...   \n",
       "1480     War|Drama|History  DreamWorks SKG|Amblin Entertainment|Malpaso Pr...   \n",
       "\n",
       "     release_date  vote_average  release_year     profit  title_len  \\\n",
       "1186   2013-12-11           7.6          2013  708400000         35   \n",
       "1110   2003-11-14           6.6          2003   62011111         47   \n",
       "1761   2007-04-16           6.0          2007    7500000         20   \n",
       "1132   2003-12-24           5.8          2003  150212113         20   \n",
       "1480   2006-10-19           6.7          2006  -24099751         20   \n",
       "\n",
       "      overview_len                                         cast_split  \\\n",
       "1186           191  [Martin Freeman, Ian McKellen, Richard Armitag...   \n",
       "1110           370  [Russell Crowe, Paul Bettany, James D'Arcy, Bi...   \n",
       "1761           231  [Meg Ryan, Kristen Stewart, Adam Brody, JoBeth...   \n",
       "1132           331  [Steve Martin, Bonnie Hunt, Piper Perabo, Tom ...   \n",
       "1480           317  [Ryan Phillippe, Adam Beach, Jesse Bradford, J...   \n",
       "\n",
       "                                          cast_together  \n",
       "1186  [(Martin Freeman, Ian McKellen), (Martin Freem...  \n",
       "1110  [(Russell Crowe, Paul Bettany), (Russell Crowe...  \n",
       "1761  [(Meg Ryan, Kristen Stewart), (Meg Ryan, Adam ...  \n",
       "1132  [(Steve Martin, Bonnie Hunt), (Steve Martin, P...  \n",
       "1480  [(Ryan Phillippe, Adam Beach), (Ryan Phillippe...  "
      ]
     },
     "execution_count": 3,
     "metadata": {},
     "output_type": "execute_result"
    }
   ],
   "source": [
    "answers = {}  # создадим словарь для ответов\n",
    "\n",
    "\n",
    "# расчитываем прибыль/убытки\n",
    "data['profit'] = data.revenue - data.budget\n",
    "\n",
    "# Переводим дату релиза в формат даты\n",
    "data['release_date'] = pd.to_datetime(data.release_date)\n",
    "\n",
    "# Расчет длины названия\n",
    "data['title_len'] = data.original_title.map(lambda x: len(x))\n",
    "\n",
    "# Расчет длины описания\n",
    "data['overview_len'] = data.overview.map(lambda x: len(x))\n",
    "\n",
    "# Получаем лист с именами актеров в отдельной колонке (для вопроса 27)\n",
    "data['cast_split'] = data.cast.str.split('|')\n",
    "\n",
    "# Создаем комбинации из имен актеров (для вопроса 27)\n",
    "data['cast_together'] = data.cast_split.apply(lambda x: list(combinations(x, 2)))\n",
    "\n",
    "\n",
    "data.sample(5)\n"
   ]
  },
  {
   "cell_type": "markdown",
   "metadata": {
    "colab_type": "text",
    "id": "YxZaH-nPVp-L"
   },
   "source": [
    "# 1. У какого фильма из списка самый большой бюджет?"
   ]
  },
  {
   "cell_type": "markdown",
   "metadata": {
    "colab_type": "text",
    "id": "Nd-G5gX6Vp-M"
   },
   "source": [
    "Использовать варианты ответов в коде решения запрещено.    \n",
    "Вы думаете и в жизни у вас будут варианты ответов?)"
   ]
  },
  {
   "cell_type": "code",
   "execution_count": 4,
   "metadata": {
    "colab": {},
    "colab_type": "code",
    "id": "dZwb3m28Vp-S"
   },
   "outputs": [
    {
     "data": {
      "text/plain": [
       "' Pirates of the Caribbean: On Stranger Tides'"
      ]
     },
     "execution_count": 4,
     "metadata": {},
     "output_type": "execute_result"
    }
   ],
   "source": [
    "data.original_title[data.budget == data.budget.max()].to_string(index=False)"
   ]
  },
  {
   "cell_type": "code",
   "execution_count": 5,
   "metadata": {
    "colab": {},
    "colab_type": "code",
    "id": "uVnXAY5RVp-O"
   },
   "outputs": [],
   "source": [
    "# в словарь вставляем номер вопроса и ваш ответ на него\n",
    "\n",
    "# запишите свой вариант ответа\n",
    "answers['1'] = 'Pirates of the Caribbean: On Stranger Tides'  # \"+\"\n"
   ]
  },
  {
   "cell_type": "markdown",
   "metadata": {
    "colab_type": "text",
    "id": "K7L3nbRXVp-X"
   },
   "source": [
    "ВАРИАНТ 2"
   ]
  },
  {
   "cell_type": "code",
   "execution_count": 38,
   "metadata": {
    "colab": {},
    "colab_type": "code",
    "id": "OGaoQI7rVp-X"
   },
   "outputs": [
    {
     "data": {
      "text/plain": [
       "723    Pirates of the Caribbean: On Stranger Tides\n",
       "Name: original_title, dtype: object"
      ]
     },
     "execution_count": 38,
     "metadata": {},
     "output_type": "execute_result"
    }
   ],
   "source": [
    "# можно добавлять разные варианты решения\n",
    "data.query('budget == budget.max()').original_title\n"
   ]
  },
  {
   "cell_type": "markdown",
   "metadata": {
    "colab_type": "text",
    "id": "FNRbbI3vVp-c"
   },
   "source": [
    "# 2. Какой из фильмов самый длительный (в минутах)?"
   ]
  },
  {
   "cell_type": "code",
   "execution_count": 6,
   "metadata": {
    "colab": {},
    "colab_type": "code",
    "id": "ot-VX2XrVp-g"
   },
   "outputs": [
    {
     "data": {
      "text/plain": [
       "1157    Gods and Generals\n",
       "Name: original_title, dtype: object"
      ]
     },
     "execution_count": 6,
     "metadata": {},
     "output_type": "execute_result"
    }
   ],
   "source": [
    "data.query('runtime == runtime.max()').original_title\n"
   ]
  },
  {
   "cell_type": "code",
   "execution_count": 7,
   "metadata": {
    "colab": {},
    "colab_type": "code",
    "id": "vHAoEXNTVp-d"
   },
   "outputs": [],
   "source": [
    "answers['2'] = 'Gods and Generals'  # \"+\"\n"
   ]
  },
  {
   "cell_type": "markdown",
   "metadata": {
    "colab_type": "text",
    "id": "bapLlpW8Vp-k"
   },
   "source": [
    "# 3. Какой из фильмов самый короткий (в минутах)?\n",
    "\n",
    "\n",
    "\n"
   ]
  },
  {
   "cell_type": "code",
   "execution_count": 8,
   "metadata": {},
   "outputs": [
    {
     "data": {
      "text/plain": [
       "768    Winnie the Pooh\n",
       "Name: original_title, dtype: object"
      ]
     },
     "execution_count": 8,
     "metadata": {},
     "output_type": "execute_result"
    }
   ],
   "source": [
    "data['original_title'][data.runtime == min(data.runtime)]\n"
   ]
  },
  {
   "cell_type": "code",
   "execution_count": 9,
   "metadata": {
    "colab": {},
    "colab_type": "code",
    "id": "YBxaSHuAVp-l"
   },
   "outputs": [],
   "source": [
    "answers['3'] = 'Winnie the Pooh'  # \"+\"\n"
   ]
  },
  {
   "cell_type": "markdown",
   "metadata": {
    "colab_type": "text",
    "id": "TfQbxbfNVp-p"
   },
   "source": [
    "# 4. Какова средняя длительность фильмов?\n"
   ]
  },
  {
   "cell_type": "code",
   "execution_count": 12,
   "metadata": {},
   "outputs": [
    {
     "data": {
      "text/plain": [
       "110"
      ]
     },
     "execution_count": 12,
     "metadata": {},
     "output_type": "execute_result"
    }
   ],
   "source": [
    "round(data.runtime.mean())\n"
   ]
  },
  {
   "cell_type": "code",
   "execution_count": 13,
   "metadata": {
    "colab": {},
    "colab_type": "code",
    "id": "5K6dKZYVVp-q"
   },
   "outputs": [],
   "source": [
    "answers['4'] = '110'  # \"+\"\n"
   ]
  },
  {
   "cell_type": "markdown",
   "metadata": {
    "colab_type": "text",
    "id": "r5TvbnT_Vp-u"
   },
   "source": [
    "# 5. Каково медианное значение длительности фильмов? "
   ]
  },
  {
   "cell_type": "code",
   "execution_count": 14,
   "metadata": {},
   "outputs": [
    {
     "data": {
      "text/plain": [
       "107.0"
      ]
     },
     "execution_count": 14,
     "metadata": {},
     "output_type": "execute_result"
    }
   ],
   "source": [
    "data.runtime.median()"
   ]
  },
  {
   "cell_type": "code",
   "execution_count": 15,
   "metadata": {
    "colab": {},
    "colab_type": "code",
    "id": "iBROplKnVp-v"
   },
   "outputs": [],
   "source": [
    "answers['5'] = '107'  # \"+\""
   ]
  },
  {
   "cell_type": "markdown",
   "metadata": {
    "colab_type": "text",
    "id": "39P-deDSVp-y"
   },
   "source": [
    "# 6. Какой самый прибыльный фильм?\n",
    "#### Внимание! Здесь и далее под «прибылью» или «убытками» понимается разность между сборами и бюджетом фильма. (прибыль = сборы - бюджет) в нашем датасете это будет (profit = revenue - budget) "
   ]
  },
  {
   "cell_type": "code",
   "execution_count": 16,
   "metadata": {},
   "outputs": [
    {
     "data": {
      "text/plain": [
       "239    Avatar\n",
       "Name: original_title, dtype: object"
      ]
     },
     "execution_count": 16,
     "metadata": {},
     "output_type": "execute_result"
    }
   ],
   "source": [
    "data.original_title[data.profit == data.profit.max()]  # колонка profit расчитана в начале файла\n"
   ]
  },
  {
   "cell_type": "code",
   "execution_count": 17,
   "metadata": {
    "colab": {},
    "colab_type": "code",
    "id": "UYZh4T9WVp-y"
   },
   "outputs": [],
   "source": [
    "answers['6'] = 'Avatar'  # \"+\"\n"
   ]
  },
  {
   "cell_type": "markdown",
   "metadata": {
    "colab_type": "text",
    "id": "M99JmIX4Vp-2"
   },
   "source": [
    "# 7. Какой фильм самый убыточный? "
   ]
  },
  {
   "cell_type": "code",
   "execution_count": 18,
   "metadata": {},
   "outputs": [
    {
     "data": {
      "text/plain": [
       "1245    The Lone Ranger\n",
       "Name: original_title, dtype: object"
      ]
     },
     "execution_count": 18,
     "metadata": {},
     "output_type": "execute_result"
    }
   ],
   "source": [
    "data.original_title[data.profit == data.profit.min()]\n"
   ]
  },
  {
   "cell_type": "code",
   "execution_count": 20,
   "metadata": {
    "colab": {},
    "colab_type": "code",
    "id": "w-D2m4XPVp-3"
   },
   "outputs": [],
   "source": [
    "answers['7'] = 'The Lone Ranger'  # \"+\"\n"
   ]
  },
  {
   "cell_type": "markdown",
   "metadata": {
    "colab_type": "text",
    "id": "wEOM5ERVVp-6"
   },
   "source": [
    "# 8. У скольких фильмов из датасета объем сборов оказался выше бюджета?"
   ]
  },
  {
   "cell_type": "code",
   "execution_count": 21,
   "metadata": {},
   "outputs": [
    {
     "data": {
      "text/plain": [
       "1478"
      ]
     },
     "execution_count": 21,
     "metadata": {},
     "output_type": "execute_result"
    }
   ],
   "source": [
    "len(data.query('revenue > budget'))\n"
   ]
  },
  {
   "cell_type": "code",
   "execution_count": 22,
   "metadata": {
    "colab": {},
    "colab_type": "code",
    "id": "y00_7HD6Vp-7"
   },
   "outputs": [],
   "source": [
    "answers['8'] = '1478'  # \"+\"\n"
   ]
  },
  {
   "cell_type": "markdown",
   "metadata": {
    "colab_type": "text",
    "id": "xhpspA9KVp_A"
   },
   "source": [
    "# 9. Какой фильм оказался самым кассовым в 2008 году?"
   ]
  },
  {
   "cell_type": "code",
   "execution_count": 23,
   "metadata": {
    "colab": {},
    "colab_type": "code",
    "id": "MoUyQr9RVp_B"
   },
   "outputs": [
    {
     "data": {
      "text/plain": [
       "599    The Dark Knight\n",
       "Name: original_title, dtype: object"
      ]
     },
     "execution_count": 23,
     "metadata": {},
     "output_type": "execute_result"
    }
   ],
   "source": [
    "data.query('release_year == 2008').query('revenue == revenue.max()').original_title\n"
   ]
  },
  {
   "cell_type": "code",
   "execution_count": 24,
   "metadata": {},
   "outputs": [],
   "source": [
    "answers['9'] = 'The Dark Knight'  # \"+\"\n"
   ]
  },
  {
   "cell_type": "markdown",
   "metadata": {
    "colab_type": "text",
    "id": "Zi4hDKidVp_F"
   },
   "source": [
    "# 10. Самый убыточный фильм за период с 2012 по 2014 г. (включительно)?\n"
   ]
  },
  {
   "cell_type": "code",
   "execution_count": 25,
   "metadata": {},
   "outputs": [
    {
     "data": {
      "text/plain": [
       "1245    The Lone Ranger\n",
       "Name: original_title, dtype: object"
      ]
     },
     "execution_count": 25,
     "metadata": {},
     "output_type": "execute_result"
    }
   ],
   "source": [
    "data.query('release_year >= 2012 & release_year <= 2014').query('profit == profit.min()').original_title\n"
   ]
  },
  {
   "cell_type": "code",
   "execution_count": 26,
   "metadata": {
    "colab": {},
    "colab_type": "code",
    "id": "XqyRmufJVp_F"
   },
   "outputs": [],
   "source": [
    "answers['10'] = 'The Lone Ranger'  # \"+\" \n"
   ]
  },
  {
   "cell_type": "markdown",
   "metadata": {
    "colab_type": "text",
    "id": "EA7Sa9dkVp_I"
   },
   "source": [
    "# 11. Какого жанра фильмов больше всего?"
   ]
  },
  {
   "cell_type": "code",
   "execution_count": 27,
   "metadata": {
    "colab": {},
    "colab_type": "code",
    "id": "zsJAwJ8QVp_J"
   },
   "outputs": [
    {
     "data": {
      "text/plain": [
       "'Drama'"
      ]
     },
     "execution_count": 27,
     "metadata": {},
     "output_type": "execute_result"
    }
   ],
   "source": [
    "genres = []  # создадим лист для записи жанров в каждой строке\n",
    "\n",
    "# Парсим каждую запись в колонке genres\n",
    "for genres_row in range(0, len(data)):\n",
    "    genres_i = data.genres[genres_row].split(sep='|')\n",
    "    for genre in range(0, len(genres_i)):\n",
    "        genres.append(genres_i[genre])\n",
    "\n",
    "# Расчитываем количество жанров в листе и выбираем жанр, встречающийся чаще всего\n",
    "max(set(genres), key=genres.count)\n"
   ]
  },
  {
   "cell_type": "code",
   "execution_count": 28,
   "metadata": {},
   "outputs": [],
   "source": [
    "answers['11'] = 'Drama'\n"
   ]
  },
  {
   "cell_type": "markdown",
   "metadata": {
    "colab_type": "text",
    "id": "Ax6g2C8SVp_M"
   },
   "source": [
    "ВАРИАНТ 2"
   ]
  },
  {
   "cell_type": "code",
   "execution_count": 29,
   "metadata": {
    "colab": {},
    "colab_type": "code",
    "id": "otO3SbrSVp_N"
   },
   "outputs": [
    {
     "data": {
      "text/plain": [
       "[('Drama', 782)]"
      ]
     },
     "execution_count": 29,
     "metadata": {},
     "output_type": "execute_result"
    }
   ],
   "source": [
    "# Вариант 2\n",
    "max(set(data.genres.str.split('|').sum()), key=data.genres.str.split('|').sum().count)\n",
    "\n",
    "# Вариант 3\n",
    "Counter(data.genres.str.split('|').sum()).most_common(1)\n"
   ]
  },
  {
   "cell_type": "markdown",
   "metadata": {
    "colab_type": "text",
    "id": "T9_bPWpkVp_Q"
   },
   "source": [
    "# 12. Фильмы какого жанра чаще всего становятся прибыльными? "
   ]
  },
  {
   "cell_type": "code",
   "execution_count": 30,
   "metadata": {},
   "outputs": [
    {
     "data": {
      "text/plain": [
       "[('Drama', 560)]"
      ]
     },
     "execution_count": 30,
     "metadata": {},
     "output_type": "execute_result"
    }
   ],
   "source": [
    "Counter(data.query('profit > 0').genres.str.split('|').sum()).most_common(1)\n"
   ]
  },
  {
   "cell_type": "code",
   "execution_count": 31,
   "metadata": {
    "colab": {},
    "colab_type": "code",
    "id": "Tmt8MaK1Vp_R"
   },
   "outputs": [],
   "source": [
    "answers['12'] = 'Drama'  # \"+\" \n"
   ]
  },
  {
   "cell_type": "markdown",
   "metadata": {
    "colab_type": "text",
    "id": "0F23bgsDVp_U"
   },
   "source": [
    "# 13. У какого режиссера самые большие суммарные кассовые сборы?"
   ]
  },
  {
   "cell_type": "code",
   "execution_count": 32,
   "metadata": {},
   "outputs": [
    {
     "data": {
      "text/plain": [
       "'Peter Jackson'"
      ]
     },
     "execution_count": 32,
     "metadata": {},
     "output_type": "execute_result"
    }
   ],
   "source": [
    "data.groupby('director').revenue.sum().sort_values(ascending = False).reset_index().director[0]\n"
   ]
  },
  {
   "cell_type": "code",
   "execution_count": 34,
   "metadata": {
    "colab": {},
    "colab_type": "code",
    "id": "K6Z3J8ygVp_X"
   },
   "outputs": [],
   "source": [
    "answers['13'] = 'Peter Jackson'  # \"+\" \n"
   ]
  },
  {
   "cell_type": "markdown",
   "metadata": {
    "colab_type": "text",
    "id": "PsYC9FgRVp_a"
   },
   "source": [
    "# 14. Какой режисер снял больше всего фильмов в стиле Action?"
   ]
  },
  {
   "cell_type": "code",
   "execution_count": 40,
   "metadata": {},
   "outputs": [
    {
     "data": {
      "text/plain": [
       "[('Robert Rodriguez', 9)]"
      ]
     },
     "execution_count": 40,
     "metadata": {},
     "output_type": "execute_result"
    }
   ],
   "source": [
    "Counter(data[data.genres.str.contains('Action')].director.str.split('|').sum()).most_common(1)\n"
   ]
  },
  {
   "cell_type": "code",
   "execution_count": 41,
   "metadata": {
    "colab": {},
    "colab_type": "code",
    "id": "wd2M-wHeVp_b"
   },
   "outputs": [],
   "source": [
    "answers['14'] = 'Robert Rodriguez'  # \"+\" \n"
   ]
  },
  {
   "cell_type": "markdown",
   "metadata": {
    "colab_type": "text",
    "id": "PQ0KciD7Vp_f"
   },
   "source": [
    "# 15. Фильмы с каким актером принесли самые высокие кассовые сборы в 2012 году? "
   ]
  },
  {
   "cell_type": "code",
   "execution_count": 42,
   "metadata": {
    "colab": {},
    "colab_type": "code",
    "id": "aga62oeKVp_g"
   },
   "outputs": [
    {
     "data": {
      "text/plain": [
       "['Robert Downey Jr.',\n",
       " 'Chris Evans',\n",
       " 'Mark Ruffalo',\n",
       " 'Chris Hemsworth',\n",
       " 'Scarlett Johansson']"
      ]
     },
     "execution_count": 42,
     "metadata": {},
     "output_type": "execute_result"
    }
   ],
   "source": [
    "data.query('release_year == 2012').query('revenue == revenue.max()').cast.str.split('|').sum()"
   ]
  },
  {
   "cell_type": "code",
   "execution_count": 44,
   "metadata": {},
   "outputs": [],
   "source": [
    "answers['15'] = 'Chris Hemsworth'  # \"+\" \n"
   ]
  },
  {
   "cell_type": "markdown",
   "metadata": {
    "colab_type": "text",
    "id": "mWHyyL7QVp_j"
   },
   "source": [
    "# 16. Какой актер снялся в большем количестве высокобюджетных фильмов?"
   ]
  },
  {
   "cell_type": "code",
   "execution_count": 45,
   "metadata": {
    "colab": {},
    "colab_type": "code",
    "id": "qQtmHKTFVp_k"
   },
   "outputs": [
    {
     "data": {
      "text/plain": [
       "[('Matt Damon', 18)]"
      ]
     },
     "execution_count": 45,
     "metadata": {},
     "output_type": "execute_result"
    }
   ],
   "source": [
    "Counter(data.query('budget > budget.mean()').cast.str.split('|').sum()).most_common(1)"
   ]
  },
  {
   "cell_type": "code",
   "execution_count": 46,
   "metadata": {},
   "outputs": [],
   "source": [
    "answers['16'] = 'Matt Damon'  # \"+\" "
   ]
  },
  {
   "cell_type": "markdown",
   "metadata": {
    "colab_type": "text",
    "id": "NIh6AaW5Vp_n"
   },
   "source": [
    "# 17. В фильмах какого жанра больше всего снимался Nicolas Cage? "
   ]
  },
  {
   "cell_type": "code",
   "execution_count": 47,
   "metadata": {
    "colab": {},
    "colab_type": "code",
    "id": "H74SJDIBVp_n"
   },
   "outputs": [
    {
     "data": {
      "text/plain": [
       "[('Action', 17)]"
      ]
     },
     "execution_count": 47,
     "metadata": {},
     "output_type": "execute_result"
    }
   ],
   "source": [
    "Counter(data[data.cast.str.contains('Nicolas Cage')].genres.str.split('|').sum()).most_common(1)"
   ]
  },
  {
   "cell_type": "code",
   "execution_count": 49,
   "metadata": {},
   "outputs": [],
   "source": [
    "answers['17'] = 'Action'  # \"+\" "
   ]
  },
  {
   "cell_type": "markdown",
   "metadata": {
    "colab_type": "text",
    "id": "RqOmPRfWVp_q"
   },
   "source": [
    "# 18. Самый убыточный фильм от Paramount Pictures"
   ]
  },
  {
   "cell_type": "code",
   "execution_count": 50,
   "metadata": {
    "colab": {},
    "colab_type": "code",
    "id": "9E_B0Y96Vp_r"
   },
   "outputs": [
    {
     "data": {
      "text/plain": [
       "925    K-19: The Widowmaker\n",
       "Name: original_title, dtype: object"
      ]
     },
     "execution_count": 50,
     "metadata": {},
     "output_type": "execute_result"
    }
   ],
   "source": [
    "data[data.production_companies.str.contains('Paramount Pictures')].query('profit == profit.min()').original_title\n"
   ]
  },
  {
   "cell_type": "code",
   "execution_count": 51,
   "metadata": {},
   "outputs": [],
   "source": [
    "answers['18'] = 'K-19: The Widowmaker'  # \"+\" \n"
   ]
  },
  {
   "cell_type": "markdown",
   "metadata": {
    "colab_type": "text",
    "id": "vS8Ur6ddVp_u"
   },
   "source": [
    "# 19. Какой год стал самым успешным по суммарным кассовым сборам?"
   ]
  },
  {
   "cell_type": "code",
   "execution_count": 52,
   "metadata": {
    "colab": {},
    "colab_type": "code",
    "id": "Dnbt4GdIVp_v"
   },
   "outputs": [
    {
     "data": {
      "text/plain": [
       "release_year           2015\n",
       "revenue         25449202382\n",
       "dtype: int64"
      ]
     },
     "execution_count": 52,
     "metadata": {},
     "output_type": "execute_result"
    }
   ],
   "source": [
    "data.groupby(['release_year']).revenue.sum().reset_index().max()\n"
   ]
  },
  {
   "cell_type": "code",
   "execution_count": 53,
   "metadata": {},
   "outputs": [],
   "source": [
    "answers['19'] = '2015'  # \"+\" \n"
   ]
  },
  {
   "cell_type": "markdown",
   "metadata": {
    "colab_type": "text",
    "id": "JAzJh4QAVp_z"
   },
   "source": [
    "# 20. Какой самый прибыльный год для студии Warner Bros?"
   ]
  },
  {
   "cell_type": "code",
   "execution_count": 54,
   "metadata": {
    "colab": {},
    "colab_type": "code",
    "id": "wgVu02DEVp_0"
   },
   "outputs": [
    {
     "data": {
      "text/html": [
       "<div>\n",
       "<style scoped>\n",
       "    .dataframe tbody tr th:only-of-type {\n",
       "        vertical-align: middle;\n",
       "    }\n",
       "\n",
       "    .dataframe tbody tr th {\n",
       "        vertical-align: top;\n",
       "    }\n",
       "\n",
       "    .dataframe thead th {\n",
       "        text-align: right;\n",
       "    }\n",
       "</style>\n",
       "<table border=\"1\" class=\"dataframe\">\n",
       "  <thead>\n",
       "    <tr style=\"text-align: right;\">\n",
       "      <th></th>\n",
       "      <th>release_year</th>\n",
       "      <th>profit</th>\n",
       "    </tr>\n",
       "  </thead>\n",
       "  <tbody>\n",
       "    <tr>\n",
       "      <th>14</th>\n",
       "      <td>2014</td>\n",
       "      <td>2295464519</td>\n",
       "    </tr>\n",
       "  </tbody>\n",
       "</table>\n",
       "</div>"
      ],
      "text/plain": [
       "    release_year      profit\n",
       "14          2014  2295464519"
      ]
     },
     "execution_count": 54,
     "metadata": {},
     "output_type": "execute_result"
    }
   ],
   "source": [
    "# отдельный датасет с записями о Warner Bros\n",
    "warner_profit = data[data.production_companies.str.contains('Warner Bros')]\n",
    "\n",
    "warner_profit.groupby(['release_year']).profit.sum().reset_index().query('profit == profit.max()')\n"
   ]
  },
  {
   "cell_type": "code",
   "execution_count": 55,
   "metadata": {},
   "outputs": [],
   "source": [
    "answers['20'] = '2014'  # \"+\" \n"
   ]
  },
  {
   "cell_type": "markdown",
   "metadata": {
    "colab_type": "text",
    "id": "8Im1S2HRVp_4"
   },
   "source": [
    "# 21. В каком месяце за все годы суммарно вышло больше всего фильмов?"
   ]
  },
  {
   "cell_type": "code",
   "execution_count": 56,
   "metadata": {
    "colab": {},
    "colab_type": "code",
    "id": "lev6TH7gVp_4"
   },
   "outputs": [
    {
     "data": {
      "text/html": [
       "<div>\n",
       "<style scoped>\n",
       "    .dataframe tbody tr th:only-of-type {\n",
       "        vertical-align: middle;\n",
       "    }\n",
       "\n",
       "    .dataframe tbody tr th {\n",
       "        vertical-align: top;\n",
       "    }\n",
       "\n",
       "    .dataframe thead th {\n",
       "        text-align: right;\n",
       "    }\n",
       "</style>\n",
       "<table border=\"1\" class=\"dataframe\">\n",
       "  <thead>\n",
       "    <tr style=\"text-align: right;\">\n",
       "      <th></th>\n",
       "      <th>release_date</th>\n",
       "      <th>cnt</th>\n",
       "    </tr>\n",
       "  </thead>\n",
       "  <tbody>\n",
       "    <tr>\n",
       "      <th>8</th>\n",
       "      <td>9</td>\n",
       "      <td>227</td>\n",
       "    </tr>\n",
       "  </tbody>\n",
       "</table>\n",
       "</div>"
      ],
      "text/plain": [
       "   release_date  cnt\n",
       "8             9  227"
      ]
     },
     "execution_count": 56,
     "metadata": {},
     "output_type": "execute_result"
    }
   ],
   "source": [
    "# Отдельный датафрейм со вычислением количества фильмов по годам\n",
    "movies_cnt_by_year = data.groupby(data['release_date'].dt.month).size().reset_index()\n",
    "\n",
    "# Переименуем колонки для удобства\n",
    "movies_cnt_by_year.columns = ['release_date', 'cnt']\n",
    "\n",
    "# Отфильтруем год с максимальным количеством фильмов\n",
    "movies_cnt_by_year.query('cnt == cnt.max()')\n"
   ]
  },
  {
   "cell_type": "code",
   "execution_count": 57,
   "metadata": {},
   "outputs": [],
   "source": [
    "answers['21'] = 'Сентябрь'  # \"+\" "
   ]
  },
  {
   "cell_type": "markdown",
   "metadata": {
    "colab_type": "text",
    "id": "uAJsZ_NeVp_7"
   },
   "source": [
    "# 22. Сколько суммарно вышло фильмов летом? (за июнь, июль, август)"
   ]
  },
  {
   "cell_type": "code",
   "execution_count": 58,
   "metadata": {
    "colab": {},
    "colab_type": "code",
    "id": "Aa-hEREoVp_8"
   },
   "outputs": [
    {
     "data": {
      "text/plain": [
       "450"
      ]
     },
     "execution_count": 58,
     "metadata": {},
     "output_type": "execute_result"
    }
   ],
   "source": [
    "len(data.query('release_date.dt.month in [6, 7, 8]'))\n"
   ]
  },
  {
   "cell_type": "code",
   "execution_count": 59,
   "metadata": {},
   "outputs": [],
   "source": [
    "answers['22'] = '450'  # \"+\" \n"
   ]
  },
  {
   "cell_type": "markdown",
   "metadata": {
    "colab_type": "text",
    "id": "G94ppOY1VqAA"
   },
   "source": [
    "# 23. Для какого режиссера зима – самое продуктивное время года? "
   ]
  },
  {
   "cell_type": "code",
   "execution_count": 60,
   "metadata": {
    "colab": {},
    "colab_type": "code",
    "id": "RhNTsamuVqAB"
   },
   "outputs": [
    {
     "data": {
      "text/plain": [
       "[('Peter Jackson', 7)]"
      ]
     },
     "execution_count": 60,
     "metadata": {},
     "output_type": "execute_result"
    }
   ],
   "source": [
    "Counter(data.query('release_date.dt.month in [1, 2, 12]').director.str.split('|').sum()).most_common(1)\n"
   ]
  },
  {
   "cell_type": "code",
   "execution_count": 61,
   "metadata": {},
   "outputs": [],
   "source": [
    "answers['23'] = 'Peter Jackson'  # \"+\" \n"
   ]
  },
  {
   "cell_type": "markdown",
   "metadata": {
    "colab_type": "text",
    "id": "RBo0JVjVVqAF"
   },
   "source": [
    "# 24. Какая студия дает самые длинные названия своим фильмам по количеству символов?"
   ]
  },
  {
   "cell_type": "code",
   "execution_count": 62,
   "metadata": {
    "colab": {},
    "colab_type": "code",
    "id": "QRGS8L0iVqAG"
   },
   "outputs": [
    {
     "data": {
      "text/plain": [
       "Four By Two Productions    83.0\n",
       "dtype: float64"
      ]
     },
     "execution_count": 62,
     "metadata": {},
     "output_type": "execute_result"
    }
   ],
   "source": [
    "# уникальный список студий\n",
    "companies = data.production_companies.str.split('|').explode().unique()\n",
    "\n",
    "# серия, в которой будем записывать студию и длину названий\n",
    "title_length = pd.Series(index = companies, dtype = 'float64') \n",
    "\n",
    "# вычислим среднюю длину названий для каждой студии\n",
    "for company in companies:\n",
    "    title_length[company] = data['title_len'][data['production_companies'].map(lambda x: True if company in x else False)].mean()\n",
    "\n",
    "# ответ\n",
    "title_length.sort_values(ascending = False).head(1)"
   ]
  },
  {
   "cell_type": "code",
   "execution_count": 63,
   "metadata": {},
   "outputs": [],
   "source": [
    "answers['24'] = 'Four By Two Productions'  # \"+\" \n"
   ]
  },
  {
   "cell_type": "markdown",
   "metadata": {
    "colab_type": "text",
    "id": "9G0hbvR7VqAK"
   },
   "source": [
    "# 25. Описание фильмов какой студии в среднем самые длинные по количеству слов?"
   ]
  },
  {
   "cell_type": "code",
   "execution_count": 65,
   "metadata": {
    "colab": {},
    "colab_type": "code",
    "id": "Ge2GsLNxVqAK"
   },
   "outputs": [
    {
     "data": {
      "text/plain": [
       "Midnight Picture Show    1000.0\n",
       "dtype: float64"
      ]
     },
     "execution_count": 65,
     "metadata": {},
     "output_type": "execute_result"
    }
   ],
   "source": [
    "# серия, в которой будем записывать студию и длину описаний\n",
    "overview_length = pd.Series(index = companies, dtype = 'float64') # серия, в которой будем записывать компанию и длину названий\n",
    "\n",
    "# вычислим среднюю длину описаний для каждой студии\n",
    "for company in companies:\n",
    "    overview_length[company] = data['overview_len'][data['production_companies'].map(lambda x: True if company in x else False)].mean()\n",
    "    \n",
    "# ответ\n",
    "overview_length.sort_values(ascending = False).head(1)\n"
   ]
  },
  {
   "cell_type": "code",
   "execution_count": 66,
   "metadata": {},
   "outputs": [],
   "source": [
    "answers['25'] = 'Midnight Picture Show'  # \"+\" \n"
   ]
  },
  {
   "cell_type": "markdown",
   "metadata": {
    "colab_type": "text",
    "id": "FJ1AFt90VqAP"
   },
   "source": [
    "# 26. Какие фильмы входят в 1 процент лучших по рейтингу? \n",
    "по vote_average"
   ]
  },
  {
   "cell_type": "code",
   "execution_count": 67,
   "metadata": {
    "colab": {},
    "colab_type": "code",
    "id": "8qmJVq4CVqAQ"
   },
   "outputs": [
    {
     "data": {
      "text/plain": [
       "1191                                     12 Years a Slave\n",
       "316                                              3 Idiots\n",
       "124                                            Big Hero 6\n",
       "1213                                   Dallas Buyers Club\n",
       "1563                Eternal Sunshine of the Spotless Mind\n",
       "128                                             Gone Girl\n",
       "119                               Guardians of the Galaxy\n",
       "1188                                                  Her\n",
       "370                                             Inception\n",
       "9                                              Inside Out\n",
       "118                                          Interstellar\n",
       "1800                                              Memento\n",
       "283                                            Mr. Nobody\n",
       "1205                                            Prisoners\n",
       "34                                                   Room\n",
       "28                                              Spotlight\n",
       "599                                       The Dark Knight\n",
       "177                                The Fault in Our Stars\n",
       "138                              The Grand Budapest Hotel\n",
       "125                                    The Imitation Game\n",
       "496     The Lord of the Rings: The Fellowship of the Ring\n",
       "1081        The Lord of the Rings: The Return of the King\n",
       "863                 The Lord of the Rings: The Two Towers\n",
       "872                                           The Pianist\n",
       "1444                                         The Prestige\n",
       "155                              The Theory of Everything\n",
       "1183                              The Wolf of Wall Street\n",
       "1688                                  There Will Be Blood\n",
       "Name: original_title, dtype: object"
      ]
     },
     "execution_count": 67,
     "metadata": {},
     "output_type": "execute_result"
    }
   ],
   "source": [
    "# Находим через квантиль\n",
    "data.query('vote_average >= vote_average.quantile(0.99)').original_title.sort_values()\n"
   ]
  },
  {
   "cell_type": "code",
   "execution_count": 68,
   "metadata": {},
   "outputs": [],
   "source": [
    "answers['26'] = ['Inside Out', 'The Dark Knight', ' 12 Years a Slave']  # \"+\" \n"
   ]
  },
  {
   "cell_type": "markdown",
   "metadata": {
    "colab_type": "text",
    "id": "MdXsUXbCVqAV"
   },
   "source": [
    "# 27. Какие актеры чаще всего снимаются в одном фильме вместе?\n"
   ]
  },
  {
   "cell_type": "code",
   "execution_count": 4,
   "metadata": {},
   "outputs": [
    {
     "data": {
      "text/plain": [
       "[(('Daniel Radcliffe', 'Rupert Grint'), 8),\n",
       " (('Daniel Radcliffe', 'Emma Watson'), 8),\n",
       " (('Rupert Grint', 'Emma Watson'), 7),\n",
       " (('Ben Stiller', 'Owen Wilson'), 6),\n",
       " (('Johnny Depp', 'Helena Bonham Carter'), 6)]"
      ]
     },
     "execution_count": 4,
     "metadata": {},
     "output_type": "execute_result"
    }
   ],
   "source": [
    "# Колонки созданы в начале файла\n",
    "list1 = data.cast_together.tolist()  # склеиваем результат колонки cast_together в list of lists\n",
    "list2 = list(itertools.chain(*list1))  # превращаем list of lists в единый лист\n",
    "\n",
    "Counter(list2).most_common(5)  # расчитываем количество пар и выбираем наиболее часто встречающиеся"
   ]
  },
  {
   "cell_type": "code",
   "execution_count": 8,
   "metadata": {},
   "outputs": [
    {
     "data": {
      "text/plain": [
       "0       [(Chris Pratt, Bryce Dallas Howard), (Chris Pr...\n",
       "1       [(Tom Hardy, Charlize Theron), (Tom Hardy, Hug...\n",
       "2       [(Shailene Woodley, Theo James), (Shailene Woo...\n",
       "3       [(Harrison Ford, Mark Hamill), (Harrison Ford,...\n",
       "4       [(Vin Diesel, Paul Walker), (Vin Diesel, Jason...\n",
       "                              ...                        \n",
       "1884    [(Patrick Stewart, Hugh Jackman), (Patrick Ste...\n",
       "1885    [(Richard E. Grant, Jonathan Lipnicki), (Richa...\n",
       "1886    [(Rene Russo, Jason Alexander), (Rene Russo, P...\n",
       "1887    [(Meg Ryan, Diane Keaton), (Meg Ryan, Lisa Kud...\n",
       "1888    [(Susan Ward, Lori Heuring), (Susan Ward, Matt...\n",
       "Name: cast_together, Length: 1889, dtype: object"
      ]
     },
     "execution_count": 8,
     "metadata": {},
     "output_type": "execute_result"
    }
   ],
   "source": [
    "data.cast_together"
   ]
  },
  {
   "cell_type": "code",
   "execution_count": 72,
   "metadata": {},
   "outputs": [],
   "source": [
    "answers['27'] = ['Daniel Radcliffe', 'Rupert Grint']  # \"+\" \n"
   ]
  },
  {
   "cell_type": "markdown",
   "metadata": {
    "colab_type": "text",
    "id": "4ymnxEVoVqAW"
   },
   "source": [
    "ВАРИАНТ 2"
   ]
  },
  {
   "cell_type": "markdown",
   "metadata": {
    "colab_type": "text",
    "id": "U0nONFnGVqAX"
   },
   "source": [
    "# Submission"
   ]
  },
  {
   "cell_type": "code",
   "execution_count": 73,
   "metadata": {
    "colab": {},
    "colab_type": "code",
    "id": "IfcaRO9-VqAX",
    "outputId": "0f132912-32bb-4196-c98c-abfbc4ad5a5f"
   },
   "outputs": [
    {
     "data": {
      "text/plain": [
       "{'1': 'Pirates of the Caribbean: On Stranger Tides',\n",
       " '2': 'Gods and Generals',\n",
       " '3': 'Winnie the Pooh',\n",
       " '4': '110',\n",
       " '5': '107',\n",
       " '6': 'Avatar',\n",
       " '7': 'The Lone Ranger',\n",
       " '8': '1478',\n",
       " '9': 'The Dark Knight',\n",
       " '10': 'The Lone Ranger',\n",
       " '11': 'Drama',\n",
       " '12': 'Drama',\n",
       " '13': 'Peter Jackson',\n",
       " '14': 'Robert Rodriguez',\n",
       " '15': 'Chris Hemsworth',\n",
       " '16': 'Matt Damon',\n",
       " '17': 'Action',\n",
       " '18': 'K-19: The Widowmaker',\n",
       " '19': '2015',\n",
       " '20': '2014',\n",
       " '21': 'Сентябрь',\n",
       " '22': '450',\n",
       " '23': 'Peter Jackson',\n",
       " '24': 'Four By Two Productions',\n",
       " '25': 'Midnight Picture Show',\n",
       " '26': ['Inside Out', 'The Dark Knight', ' 12 Years a Slave'],\n",
       " '27': ['Daniel Radcliffe', 'Rupert Grint']}"
      ]
     },
     "execution_count": 73,
     "metadata": {},
     "output_type": "execute_result"
    }
   ],
   "source": [
    "# в конце можно посмотреть свои ответы к каждому вопросу\n",
    "answers"
   ]
  },
  {
   "cell_type": "code",
   "execution_count": 74,
   "metadata": {
    "colab": {},
    "colab_type": "code",
    "id": "SiRmHPl8VqAd"
   },
   "outputs": [
    {
     "data": {
      "text/plain": [
       "27"
      ]
     },
     "execution_count": 74,
     "metadata": {},
     "output_type": "execute_result"
    }
   ],
   "source": [
    "# и убедиться что ни чего не пропустил)\n",
    "len(answers)"
   ]
  }
 ],
 "metadata": {
  "colab": {
   "name": "Copy of [SF-DST] Movies IMBD v4.1 TEMPLATE.ipynb",
   "provenance": []
  },
  "kernelspec": {
   "display_name": "Python 3",
   "language": "python",
   "name": "python3"
  },
  "language_info": {
   "codemirror_mode": {
    "name": "ipython",
    "version": 3
   },
   "file_extension": ".py",
   "mimetype": "text/x-python",
   "name": "python",
   "nbconvert_exporter": "python",
   "pygments_lexer": "ipython3",
   "version": "3.8.5"
  }
 },
 "nbformat": 4,
 "nbformat_minor": 1
}
