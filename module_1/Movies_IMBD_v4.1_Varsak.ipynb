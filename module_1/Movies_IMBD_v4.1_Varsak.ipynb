{
 "cells": [
  {
   "cell_type": "code",
   "execution_count": 1,
   "metadata": {
    "_cell_guid": "b1076dfc-b9ad-4769-8c92-a6c4dae69d19",
    "_uuid": "8f2839f25d086af736a60e9eeb907d3b93b6e0e5",
    "colab": {},
    "colab_type": "code",
    "id": "U2D2gTdJVp90"
   },
   "outputs": [],
   "source": [
    "import numpy as np\n",
    "import pandas as pd\n",
    "import seaborn as sns\n",
    "import matplotlib.pyplot as plt\n",
    "import itertools\n",
    "from itertools import combinations\n",
    "from collections import Counter"
   ]
  },
  {
   "cell_type": "code",
   "execution_count": 2,
   "metadata": {
    "_cell_guid": "79c7e3d0-c299-4dcb-8224-4455121ee9b0",
    "_uuid": "d629ff2d2480ee46fbb7e2d37f6b5fab8052498a",
    "colab": {},
    "colab_type": "code",
    "id": "oyGfxL3eVp9-"
   },
   "outputs": [
    {
     "data": {
      "text/html": [
       "<div>\n",
       "<style scoped>\n",
       "    .dataframe tbody tr th:only-of-type {\n",
       "        vertical-align: middle;\n",
       "    }\n",
       "\n",
       "    .dataframe tbody tr th {\n",
       "        vertical-align: top;\n",
       "    }\n",
       "\n",
       "    .dataframe thead th {\n",
       "        text-align: right;\n",
       "    }\n",
       "</style>\n",
       "<table border=\"1\" class=\"dataframe\">\n",
       "  <thead>\n",
       "    <tr style=\"text-align: right;\">\n",
       "      <th></th>\n",
       "      <th>imdb_id</th>\n",
       "      <th>budget</th>\n",
       "      <th>revenue</th>\n",
       "      <th>original_title</th>\n",
       "      <th>cast</th>\n",
       "      <th>director</th>\n",
       "      <th>tagline</th>\n",
       "      <th>overview</th>\n",
       "      <th>runtime</th>\n",
       "      <th>genres</th>\n",
       "      <th>production_companies</th>\n",
       "      <th>release_date</th>\n",
       "      <th>vote_average</th>\n",
       "      <th>release_year</th>\n",
       "    </tr>\n",
       "  </thead>\n",
       "  <tbody>\n",
       "    <tr>\n",
       "      <th>1132</th>\n",
       "      <td>tt0349205</td>\n",
       "      <td>40000000</td>\n",
       "      <td>190212113</td>\n",
       "      <td>Cheaper by the Dozen</td>\n",
       "      <td>Steve Martin|Bonnie Hunt|Piper Perabo|Tom Well...</td>\n",
       "      <td>Shawn Levy</td>\n",
       "      <td>Growing pains? They've got twelve of them!</td>\n",
       "      <td>The Baker brood moves to Chicago after patriar...</td>\n",
       "      <td>98</td>\n",
       "      <td>Comedy|Drama|Family</td>\n",
       "      <td>Twentieth Century Fox Film Corporation|Robert ...</td>\n",
       "      <td>12/24/2003</td>\n",
       "      <td>5.8</td>\n",
       "      <td>2003</td>\n",
       "    </tr>\n",
       "    <tr>\n",
       "      <th>1478</th>\n",
       "      <td>tt0455967</td>\n",
       "      <td>18000000</td>\n",
       "      <td>41009669</td>\n",
       "      <td>John Tucker Must Die</td>\n",
       "      <td>Jesse Metcalfe|Brittany Snow|Sophia Bush|Ariel...</td>\n",
       "      <td>Betty Thomas</td>\n",
       "      <td>Don't Get Mad. Get Even.</td>\n",
       "      <td>After discovering they are all dating the same...</td>\n",
       "      <td>87</td>\n",
       "      <td>Comedy</td>\n",
       "      <td>Twentieth Century Fox Film Corporation|Dune En...</td>\n",
       "      <td>7/27/2006</td>\n",
       "      <td>6.0</td>\n",
       "      <td>2006</td>\n",
       "    </tr>\n",
       "    <tr>\n",
       "      <th>1180</th>\n",
       "      <td>tt1300854</td>\n",
       "      <td>200000000</td>\n",
       "      <td>1215439994</td>\n",
       "      <td>Iron Man 3</td>\n",
       "      <td>Robert Downey Jr.|Gwyneth Paltrow|Guy Pearce|D...</td>\n",
       "      <td>Shane Black</td>\n",
       "      <td>Unleash the power behind the armor.</td>\n",
       "      <td>When Tony Stark's world is torn apart by a for...</td>\n",
       "      <td>130</td>\n",
       "      <td>Action|Adventure|Science Fiction</td>\n",
       "      <td>Marvel Studios</td>\n",
       "      <td>4/18/2013</td>\n",
       "      <td>6.9</td>\n",
       "      <td>2013</td>\n",
       "    </tr>\n",
       "    <tr>\n",
       "      <th>1662</th>\n",
       "      <td>tt0339412</td>\n",
       "      <td>30000000</td>\n",
       "      <td>21800302</td>\n",
       "      <td>Mr. 3000</td>\n",
       "      <td>Bernie Mac|Angela Bassett|Michael Rispoli|Bria...</td>\n",
       "      <td>Charles Stone III</td>\n",
       "      <td>Big league. Big mouth. Big time.</td>\n",
       "      <td>Aging baseball star who goes by the nickname, ...</td>\n",
       "      <td>104</td>\n",
       "      <td>Comedy|Drama</td>\n",
       "      <td>Touchstone Pictures</td>\n",
       "      <td>6/15/2004</td>\n",
       "      <td>5.1</td>\n",
       "      <td>2004</td>\n",
       "    </tr>\n",
       "    <tr>\n",
       "      <th>216</th>\n",
       "      <td>tt1837709</td>\n",
       "      <td>60000000</td>\n",
       "      <td>30800231</td>\n",
       "      <td>Winter's Tale</td>\n",
       "      <td>Colin Farrell|Jessica Brown Findlay|Russell Cr...</td>\n",
       "      <td>Akiva Goldsman</td>\n",
       "      <td>This is not a true story. This is true love.</td>\n",
       "      <td>A burglar falls for an heiress as she dies in ...</td>\n",
       "      <td>118</td>\n",
       "      <td>Drama|Fantasy|Mystery|Romance</td>\n",
       "      <td>Village Roadshow Pictures|Weed Road Pictures|W...</td>\n",
       "      <td>2/13/2014</td>\n",
       "      <td>5.9</td>\n",
       "      <td>2014</td>\n",
       "    </tr>\n",
       "  </tbody>\n",
       "</table>\n",
       "</div>"
      ],
      "text/plain": [
       "        imdb_id     budget     revenue        original_title  \\\n",
       "1132  tt0349205   40000000   190212113  Cheaper by the Dozen   \n",
       "1478  tt0455967   18000000    41009669  John Tucker Must Die   \n",
       "1180  tt1300854  200000000  1215439994            Iron Man 3   \n",
       "1662  tt0339412   30000000    21800302              Mr. 3000   \n",
       "216   tt1837709   60000000    30800231         Winter's Tale   \n",
       "\n",
       "                                                   cast           director  \\\n",
       "1132  Steve Martin|Bonnie Hunt|Piper Perabo|Tom Well...         Shawn Levy   \n",
       "1478  Jesse Metcalfe|Brittany Snow|Sophia Bush|Ariel...       Betty Thomas   \n",
       "1180  Robert Downey Jr.|Gwyneth Paltrow|Guy Pearce|D...        Shane Black   \n",
       "1662  Bernie Mac|Angela Bassett|Michael Rispoli|Bria...  Charles Stone III   \n",
       "216   Colin Farrell|Jessica Brown Findlay|Russell Cr...     Akiva Goldsman   \n",
       "\n",
       "                                           tagline  \\\n",
       "1132    Growing pains? They've got twelve of them!   \n",
       "1478                      Don't Get Mad. Get Even.   \n",
       "1180           Unleash the power behind the armor.   \n",
       "1662              Big league. Big mouth. Big time.   \n",
       "216   This is not a true story. This is true love.   \n",
       "\n",
       "                                               overview  runtime  \\\n",
       "1132  The Baker brood moves to Chicago after patriar...       98   \n",
       "1478  After discovering they are all dating the same...       87   \n",
       "1180  When Tony Stark's world is torn apart by a for...      130   \n",
       "1662  Aging baseball star who goes by the nickname, ...      104   \n",
       "216   A burglar falls for an heiress as she dies in ...      118   \n",
       "\n",
       "                                genres  \\\n",
       "1132               Comedy|Drama|Family   \n",
       "1478                            Comedy   \n",
       "1180  Action|Adventure|Science Fiction   \n",
       "1662                      Comedy|Drama   \n",
       "216      Drama|Fantasy|Mystery|Romance   \n",
       "\n",
       "                                   production_companies release_date  \\\n",
       "1132  Twentieth Century Fox Film Corporation|Robert ...   12/24/2003   \n",
       "1478  Twentieth Century Fox Film Corporation|Dune En...    7/27/2006   \n",
       "1180                                     Marvel Studios    4/18/2013   \n",
       "1662                                Touchstone Pictures    6/15/2004   \n",
       "216   Village Roadshow Pictures|Weed Road Pictures|W...    2/13/2014   \n",
       "\n",
       "      vote_average  release_year  \n",
       "1132           5.8          2003  \n",
       "1478           6.0          2006  \n",
       "1180           6.9          2013  \n",
       "1662           5.1          2004  \n",
       "216            5.9          2014  "
      ]
     },
     "execution_count": 2,
     "metadata": {},
     "output_type": "execute_result"
    }
   ],
   "source": [
    "# Загружаем данные\n",
    "data = pd.read_csv('movie_bd_v5.csv')\n",
    "\n",
    "data.sample(5)  # посмотрим на данные"
   ]
  },
  {
   "cell_type": "code",
   "execution_count": 6,
   "metadata": {
    "colab": {},
    "colab_type": "code",
    "id": "CoYUnagMVp-C",
    "scrolled": true
   },
   "outputs": [
    {
     "data": {
      "text/html": [
       "<div>\n",
       "<style scoped>\n",
       "    .dataframe tbody tr th:only-of-type {\n",
       "        vertical-align: middle;\n",
       "    }\n",
       "\n",
       "    .dataframe tbody tr th {\n",
       "        vertical-align: top;\n",
       "    }\n",
       "\n",
       "    .dataframe thead th {\n",
       "        text-align: right;\n",
       "    }\n",
       "</style>\n",
       "<table border=\"1\" class=\"dataframe\">\n",
       "  <thead>\n",
       "    <tr style=\"text-align: right;\">\n",
       "      <th></th>\n",
       "      <th>budget</th>\n",
       "      <th>revenue</th>\n",
       "      <th>runtime</th>\n",
       "      <th>vote_average</th>\n",
       "      <th>release_year</th>\n",
       "    </tr>\n",
       "  </thead>\n",
       "  <tbody>\n",
       "    <tr>\n",
       "      <th>count</th>\n",
       "      <td>1.889000e+03</td>\n",
       "      <td>1.889000e+03</td>\n",
       "      <td>1889.000000</td>\n",
       "      <td>1889.000000</td>\n",
       "      <td>1889.000000</td>\n",
       "    </tr>\n",
       "    <tr>\n",
       "      <th>mean</th>\n",
       "      <td>5.431083e+07</td>\n",
       "      <td>1.553653e+08</td>\n",
       "      <td>109.658549</td>\n",
       "      <td>6.140762</td>\n",
       "      <td>2007.860773</td>\n",
       "    </tr>\n",
       "    <tr>\n",
       "      <th>std</th>\n",
       "      <td>4.858721e+07</td>\n",
       "      <td>2.146698e+08</td>\n",
       "      <td>18.017041</td>\n",
       "      <td>0.764763</td>\n",
       "      <td>4.468841</td>\n",
       "    </tr>\n",
       "    <tr>\n",
       "      <th>min</th>\n",
       "      <td>5.000000e+06</td>\n",
       "      <td>2.033165e+06</td>\n",
       "      <td>63.000000</td>\n",
       "      <td>3.300000</td>\n",
       "      <td>2000.000000</td>\n",
       "    </tr>\n",
       "    <tr>\n",
       "      <th>25%</th>\n",
       "      <td>2.000000e+07</td>\n",
       "      <td>3.456058e+07</td>\n",
       "      <td>97.000000</td>\n",
       "      <td>5.600000</td>\n",
       "      <td>2004.000000</td>\n",
       "    </tr>\n",
       "    <tr>\n",
       "      <th>50%</th>\n",
       "      <td>3.800000e+07</td>\n",
       "      <td>8.361541e+07</td>\n",
       "      <td>107.000000</td>\n",
       "      <td>6.100000</td>\n",
       "      <td>2008.000000</td>\n",
       "    </tr>\n",
       "    <tr>\n",
       "      <th>75%</th>\n",
       "      <td>7.200000e+07</td>\n",
       "      <td>1.782626e+08</td>\n",
       "      <td>120.000000</td>\n",
       "      <td>6.600000</td>\n",
       "      <td>2012.000000</td>\n",
       "    </tr>\n",
       "    <tr>\n",
       "      <th>max</th>\n",
       "      <td>3.800000e+08</td>\n",
       "      <td>2.781506e+09</td>\n",
       "      <td>214.000000</td>\n",
       "      <td>8.100000</td>\n",
       "      <td>2015.000000</td>\n",
       "    </tr>\n",
       "  </tbody>\n",
       "</table>\n",
       "</div>"
      ],
      "text/plain": [
       "             budget       revenue      runtime  vote_average  release_year\n",
       "count  1.889000e+03  1.889000e+03  1889.000000   1889.000000   1889.000000\n",
       "mean   5.431083e+07  1.553653e+08   109.658549      6.140762   2007.860773\n",
       "std    4.858721e+07  2.146698e+08    18.017041      0.764763      4.468841\n",
       "min    5.000000e+06  2.033165e+06    63.000000      3.300000   2000.000000\n",
       "25%    2.000000e+07  3.456058e+07    97.000000      5.600000   2004.000000\n",
       "50%    3.800000e+07  8.361541e+07   107.000000      6.100000   2008.000000\n",
       "75%    7.200000e+07  1.782626e+08   120.000000      6.600000   2012.000000\n",
       "max    3.800000e+08  2.781506e+09   214.000000      8.100000   2015.000000"
      ]
     },
     "execution_count": 6,
     "metadata": {},
     "output_type": "execute_result"
    }
   ],
   "source": [
    "data.describe() # просмотр базовых статистик в числовых колонках"
   ]
  },
  {
   "cell_type": "markdown",
   "metadata": {
    "colab_type": "text",
    "id": "DTIt7ezGVp-G"
   },
   "source": [
    "# Предобработка"
   ]
  },
  {
   "cell_type": "code",
   "execution_count": 3,
   "metadata": {
    "colab": {},
    "colab_type": "code",
    "id": "jNb40DwKVp-H"
   },
   "outputs": [
    {
     "data": {
      "text/html": [
       "<div>\n",
       "<style scoped>\n",
       "    .dataframe tbody tr th:only-of-type {\n",
       "        vertical-align: middle;\n",
       "    }\n",
       "\n",
       "    .dataframe tbody tr th {\n",
       "        vertical-align: top;\n",
       "    }\n",
       "\n",
       "    .dataframe thead th {\n",
       "        text-align: right;\n",
       "    }\n",
       "</style>\n",
       "<table border=\"1\" class=\"dataframe\">\n",
       "  <thead>\n",
       "    <tr style=\"text-align: right;\">\n",
       "      <th></th>\n",
       "      <th>imdb_id</th>\n",
       "      <th>budget</th>\n",
       "      <th>revenue</th>\n",
       "      <th>original_title</th>\n",
       "      <th>cast</th>\n",
       "      <th>director</th>\n",
       "      <th>tagline</th>\n",
       "      <th>overview</th>\n",
       "      <th>runtime</th>\n",
       "      <th>genres</th>\n",
       "      <th>production_companies</th>\n",
       "      <th>release_date</th>\n",
       "      <th>vote_average</th>\n",
       "      <th>release_year</th>\n",
       "      <th>profit</th>\n",
       "      <th>title_len</th>\n",
       "      <th>overview_len</th>\n",
       "      <th>cast_split</th>\n",
       "      <th>cast_together</th>\n",
       "    </tr>\n",
       "  </thead>\n",
       "  <tbody>\n",
       "    <tr>\n",
       "      <th>340</th>\n",
       "      <td>tt1311067</td>\n",
       "      <td>15000000</td>\n",
       "      <td>39421467</td>\n",
       "      <td>Halloween II</td>\n",
       "      <td>Scout Taylor-Compton|Sheri Moon Zombie|Tyler M...</td>\n",
       "      <td>Rob Zombie</td>\n",
       "      <td>Family Is Forever</td>\n",
       "      <td>Laurie Strode struggles to come to terms with ...</td>\n",
       "      <td>105</td>\n",
       "      <td>Horror</td>\n",
       "      <td>Dimension Films|Spectacle Entertainment Group|...</td>\n",
       "      <td>2009-08-28</td>\n",
       "      <td>5.2</td>\n",
       "      <td>2009</td>\n",
       "      <td>24421467</td>\n",
       "      <td>12</td>\n",
       "      <td>172</td>\n",
       "      <td>[Scout Taylor-Compton, Sheri Moon Zombie, Tyle...</td>\n",
       "      <td>[(Scout Taylor-Compton, Sheri Moon Zombie), (S...</td>\n",
       "    </tr>\n",
       "    <tr>\n",
       "      <th>1710</th>\n",
       "      <td>tt0780571</td>\n",
       "      <td>20000000</td>\n",
       "      <td>41637263</td>\n",
       "      <td>Mr. Brooks</td>\n",
       "      <td>Kevin Costner|Demi Moore|Dane Cook|William Hur...</td>\n",
       "      <td>Bruce A. Evans</td>\n",
       "      <td>The man who has everything has everything to h...</td>\n",
       "      <td>A psychological thriller about a man who is so...</td>\n",
       "      <td>120</td>\n",
       "      <td>Drama|Crime|Mystery|Thriller</td>\n",
       "      <td>Tig Productions|Eden Rock Media|Element Films|...</td>\n",
       "      <td>2007-06-01</td>\n",
       "      <td>6.7</td>\n",
       "      <td>2007</td>\n",
       "      <td>21637263</td>\n",
       "      <td>10</td>\n",
       "      <td>107</td>\n",
       "      <td>[Kevin Costner, Demi Moore, Dane Cook, William...</td>\n",
       "      <td>[(Kevin Costner, Demi Moore), (Kevin Costner, ...</td>\n",
       "    </tr>\n",
       "    <tr>\n",
       "      <th>68</th>\n",
       "      <td>tt2726560</td>\n",
       "      <td>34000000</td>\n",
       "      <td>63013281</td>\n",
       "      <td>The Longest Ride</td>\n",
       "      <td>Scott Eastwood|Britt Robertson|Lolita Davidovi...</td>\n",
       "      <td>George Tillman, Jr.</td>\n",
       "      <td>Two couples. Two love stories. One epic tale.</td>\n",
       "      <td>The lives of a young couple intertwine with a ...</td>\n",
       "      <td>128</td>\n",
       "      <td>Romance|Drama</td>\n",
       "      <td>Fox 2000 Pictures|Temple Hill Entertainment</td>\n",
       "      <td>2015-04-09</td>\n",
       "      <td>7.3</td>\n",
       "      <td>2015</td>\n",
       "      <td>29013281</td>\n",
       "      <td>16</td>\n",
       "      <td>138</td>\n",
       "      <td>[Scott Eastwood, Britt Robertson, Lolita David...</td>\n",
       "      <td>[(Scott Eastwood, Britt Robertson), (Scott Eas...</td>\n",
       "    </tr>\n",
       "    <tr>\n",
       "      <th>1356</th>\n",
       "      <td>tt0430105</td>\n",
       "      <td>45000000</td>\n",
       "      <td>92374674</td>\n",
       "      <td>Four Brothers</td>\n",
       "      <td>Mark Wahlberg|Tyrese Gibson|AndrÃ© Benjamin|Ga...</td>\n",
       "      <td>John Singleton</td>\n",
       "      <td>They came home to bury mom... and her killer</td>\n",
       "      <td>Four adopted brothers return to their Detroit ...</td>\n",
       "      <td>109</td>\n",
       "      <td>Action|Crime</td>\n",
       "      <td>Paramount Pictures|Di Bonaventura Pictures</td>\n",
       "      <td>2005-08-11</td>\n",
       "      <td>6.6</td>\n",
       "      <td>2005</td>\n",
       "      <td>47374674</td>\n",
       "      <td>13</td>\n",
       "      <td>125</td>\n",
       "      <td>[Mark Wahlberg, Tyrese Gibson, AndrÃ© Benjamin...</td>\n",
       "      <td>[(Mark Wahlberg, Tyrese Gibson), (Mark Wahlber...</td>\n",
       "    </tr>\n",
       "    <tr>\n",
       "      <th>1277</th>\n",
       "      <td>tt2058107</td>\n",
       "      <td>18000000</td>\n",
       "      <td>22309223</td>\n",
       "      <td>The Railway Man</td>\n",
       "      <td>Jeremy Irvine|Colin Firth|Stellan SkarsgÃ¥rd|M...</td>\n",
       "      <td>Jonathan Teplitzky</td>\n",
       "      <td>Revenge is never a straight line</td>\n",
       "      <td>A victim from World War II's \"Death Railway\" s...</td>\n",
       "      <td>116</td>\n",
       "      <td>Drama|History</td>\n",
       "      <td>Archer Street Productions|Lionsgate|Pictures i...</td>\n",
       "      <td>2013-12-26</td>\n",
       "      <td>6.6</td>\n",
       "      <td>2013</td>\n",
       "      <td>4309223</td>\n",
       "      <td>15</td>\n",
       "      <td>110</td>\n",
       "      <td>[Jeremy Irvine, Colin Firth, Stellan SkarsgÃ¥r...</td>\n",
       "      <td>[(Jeremy Irvine, Colin Firth), (Jeremy Irvine,...</td>\n",
       "    </tr>\n",
       "  </tbody>\n",
       "</table>\n",
       "</div>"
      ],
      "text/plain": [
       "        imdb_id    budget   revenue    original_title  \\\n",
       "340   tt1311067  15000000  39421467      Halloween II   \n",
       "1710  tt0780571  20000000  41637263        Mr. Brooks   \n",
       "68    tt2726560  34000000  63013281  The Longest Ride   \n",
       "1356  tt0430105  45000000  92374674     Four Brothers   \n",
       "1277  tt2058107  18000000  22309223   The Railway Man   \n",
       "\n",
       "                                                   cast             director  \\\n",
       "340   Scout Taylor-Compton|Sheri Moon Zombie|Tyler M...           Rob Zombie   \n",
       "1710  Kevin Costner|Demi Moore|Dane Cook|William Hur...       Bruce A. Evans   \n",
       "68    Scott Eastwood|Britt Robertson|Lolita Davidovi...  George Tillman, Jr.   \n",
       "1356  Mark Wahlberg|Tyrese Gibson|AndrÃ© Benjamin|Ga...       John Singleton   \n",
       "1277  Jeremy Irvine|Colin Firth|Stellan SkarsgÃ¥rd|M...   Jonathan Teplitzky   \n",
       "\n",
       "                                                tagline  \\\n",
       "340                                   Family Is Forever   \n",
       "1710  The man who has everything has everything to h...   \n",
       "68        Two couples. Two love stories. One epic tale.   \n",
       "1356       They came home to bury mom... and her killer   \n",
       "1277                   Revenge is never a straight line   \n",
       "\n",
       "                                               overview  runtime  \\\n",
       "340   Laurie Strode struggles to come to terms with ...      105   \n",
       "1710  A psychological thriller about a man who is so...      120   \n",
       "68    The lives of a young couple intertwine with a ...      128   \n",
       "1356  Four adopted brothers return to their Detroit ...      109   \n",
       "1277  A victim from World War II's \"Death Railway\" s...      116   \n",
       "\n",
       "                            genres  \\\n",
       "340                         Horror   \n",
       "1710  Drama|Crime|Mystery|Thriller   \n",
       "68                   Romance|Drama   \n",
       "1356                  Action|Crime   \n",
       "1277                 Drama|History   \n",
       "\n",
       "                                   production_companies release_date  \\\n",
       "340   Dimension Films|Spectacle Entertainment Group|...   2009-08-28   \n",
       "1710  Tig Productions|Eden Rock Media|Element Films|...   2007-06-01   \n",
       "68          Fox 2000 Pictures|Temple Hill Entertainment   2015-04-09   \n",
       "1356         Paramount Pictures|Di Bonaventura Pictures   2005-08-11   \n",
       "1277  Archer Street Productions|Lionsgate|Pictures i...   2013-12-26   \n",
       "\n",
       "      vote_average  release_year    profit  title_len  overview_len  \\\n",
       "340            5.2          2009  24421467         12           172   \n",
       "1710           6.7          2007  21637263         10           107   \n",
       "68             7.3          2015  29013281         16           138   \n",
       "1356           6.6          2005  47374674         13           125   \n",
       "1277           6.6          2013   4309223         15           110   \n",
       "\n",
       "                                             cast_split  \\\n",
       "340   [Scout Taylor-Compton, Sheri Moon Zombie, Tyle...   \n",
       "1710  [Kevin Costner, Demi Moore, Dane Cook, William...   \n",
       "68    [Scott Eastwood, Britt Robertson, Lolita David...   \n",
       "1356  [Mark Wahlberg, Tyrese Gibson, AndrÃ© Benjamin...   \n",
       "1277  [Jeremy Irvine, Colin Firth, Stellan SkarsgÃ¥r...   \n",
       "\n",
       "                                          cast_together  \n",
       "340   [(Scout Taylor-Compton, Sheri Moon Zombie), (S...  \n",
       "1710  [(Kevin Costner, Demi Moore), (Kevin Costner, ...  \n",
       "68    [(Scott Eastwood, Britt Robertson), (Scott Eas...  \n",
       "1356  [(Mark Wahlberg, Tyrese Gibson), (Mark Wahlber...  \n",
       "1277  [(Jeremy Irvine, Colin Firth), (Jeremy Irvine,...  "
      ]
     },
     "execution_count": 3,
     "metadata": {},
     "output_type": "execute_result"
    }
   ],
   "source": [
    "answers = {}  # создадим словарь для ответов\n",
    "\n",
    "\n",
    "# расчитываем прибыль/убытки\n",
    "data['profit'] = data.revenue - data.budget\n",
    "\n",
    "# Переводим дату релиза в формат даты\n",
    "data['release_date'] = pd.to_datetime(data.release_date)\n",
    "\n",
    "# Расчет длины названия\n",
    "data['title_len'] = data.original_title.map(lambda x: len(x))\n",
    "\n",
    "# Расчет длины описания\n",
    "data['overview_len'] = data.overview.map(lambda x: len(x))\n",
    "\n",
    "# Получаем лист с именами актеров в отдельной колонке (для вопроса 27)\n",
    "data['cast_split'] = data.cast.str.split('|')\n",
    "\n",
    "# Создаем комбинации из имен актеров (для вопроса 27)\n",
    "data['cast_together'] = data.cast_split.apply(lambda x: list(combinations(x, 2)))\n",
    "\n",
    "\n",
    "data.sample(5)\n"
   ]
  },
  {
   "cell_type": "markdown",
   "metadata": {
    "colab_type": "text",
    "id": "YxZaH-nPVp-L"
   },
   "source": [
    "# 1. У какого фильма из списка самый большой бюджет?"
   ]
  },
  {
   "cell_type": "markdown",
   "metadata": {
    "colab_type": "text",
    "id": "Nd-G5gX6Vp-M"
   },
   "source": [
    "Использовать варианты ответов в коде решения запрещено.    \n",
    "Вы думаете и в жизни у вас будут варианты ответов?)"
   ]
  },
  {
   "cell_type": "code",
   "execution_count": 4,
   "metadata": {
    "colab": {},
    "colab_type": "code",
    "id": "dZwb3m28Vp-S"
   },
   "outputs": [
    {
     "data": {
      "text/plain": [
       "' Pirates of the Caribbean: On Stranger Tides'"
      ]
     },
     "execution_count": 4,
     "metadata": {},
     "output_type": "execute_result"
    }
   ],
   "source": [
    "data.original_title[data.budget == data.budget.max()].to_string(index=False)"
   ]
  },
  {
   "cell_type": "code",
   "execution_count": 5,
   "metadata": {
    "colab": {},
    "colab_type": "code",
    "id": "uVnXAY5RVp-O"
   },
   "outputs": [],
   "source": [
    "# в словарь вставляем номер вопроса и ваш ответ на него\n",
    "\n",
    "# запишите свой вариант ответа\n",
    "answers['1'] = 'Pirates of the Caribbean: On Stranger Tides'  # \"+\"\n"
   ]
  },
  {
   "cell_type": "markdown",
   "metadata": {
    "colab_type": "text",
    "id": "K7L3nbRXVp-X"
   },
   "source": [
    "ВАРИАНТ 2"
   ]
  },
  {
   "cell_type": "code",
   "execution_count": 38,
   "metadata": {
    "colab": {},
    "colab_type": "code",
    "id": "OGaoQI7rVp-X"
   },
   "outputs": [
    {
     "data": {
      "text/plain": [
       "723    Pirates of the Caribbean: On Stranger Tides\n",
       "Name: original_title, dtype: object"
      ]
     },
     "execution_count": 38,
     "metadata": {},
     "output_type": "execute_result"
    }
   ],
   "source": [
    "# можно добавлять разные варианты решения\n",
    "data.query('budget == budget.max()').original_title\n"
   ]
  },
  {
   "cell_type": "markdown",
   "metadata": {
    "colab_type": "text",
    "id": "FNRbbI3vVp-c"
   },
   "source": [
    "# 2. Какой из фильмов самый длительный (в минутах)?"
   ]
  },
  {
   "cell_type": "code",
   "execution_count": 6,
   "metadata": {
    "colab": {},
    "colab_type": "code",
    "id": "ot-VX2XrVp-g"
   },
   "outputs": [
    {
     "data": {
      "text/plain": [
       "1157    Gods and Generals\n",
       "Name: original_title, dtype: object"
      ]
     },
     "execution_count": 6,
     "metadata": {},
     "output_type": "execute_result"
    }
   ],
   "source": [
    "data.query('runtime == runtime.max()').original_title\n"
   ]
  },
  {
   "cell_type": "code",
   "execution_count": 7,
   "metadata": {
    "colab": {},
    "colab_type": "code",
    "id": "vHAoEXNTVp-d"
   },
   "outputs": [],
   "source": [
    "answers['2'] = 'Gods and Generals'  # \"+\"\n"
   ]
  },
  {
   "cell_type": "markdown",
   "metadata": {
    "colab_type": "text",
    "id": "bapLlpW8Vp-k"
   },
   "source": [
    "# 3. Какой из фильмов самый короткий (в минутах)?\n",
    "\n",
    "\n",
    "\n"
   ]
  },
  {
   "cell_type": "code",
   "execution_count": 8,
   "metadata": {},
   "outputs": [
    {
     "data": {
      "text/plain": [
       "768    Winnie the Pooh\n",
       "Name: original_title, dtype: object"
      ]
     },
     "execution_count": 8,
     "metadata": {},
     "output_type": "execute_result"
    }
   ],
   "source": [
    "data['original_title'][data.runtime == min(data.runtime)]\n"
   ]
  },
  {
   "cell_type": "code",
   "execution_count": 9,
   "metadata": {
    "colab": {},
    "colab_type": "code",
    "id": "YBxaSHuAVp-l"
   },
   "outputs": [],
   "source": [
    "answers['3'] = 'Winnie the Pooh'  # \"+\"\n"
   ]
  },
  {
   "cell_type": "markdown",
   "metadata": {
    "colab_type": "text",
    "id": "TfQbxbfNVp-p"
   },
   "source": [
    "# 4. Какова средняя длительность фильмов?\n"
   ]
  },
  {
   "cell_type": "code",
   "execution_count": 12,
   "metadata": {},
   "outputs": [
    {
     "data": {
      "text/plain": [
       "110"
      ]
     },
     "execution_count": 12,
     "metadata": {},
     "output_type": "execute_result"
    }
   ],
   "source": [
    "round(data.runtime.mean())\n"
   ]
  },
  {
   "cell_type": "code",
   "execution_count": 13,
   "metadata": {
    "colab": {},
    "colab_type": "code",
    "id": "5K6dKZYVVp-q"
   },
   "outputs": [],
   "source": [
    "answers['4'] = '110'  # \"+\"\n"
   ]
  },
  {
   "cell_type": "markdown",
   "metadata": {
    "colab_type": "text",
    "id": "r5TvbnT_Vp-u"
   },
   "source": [
    "# 5. Каково медианное значение длительности фильмов? "
   ]
  },
  {
   "cell_type": "code",
   "execution_count": 14,
   "metadata": {},
   "outputs": [
    {
     "data": {
      "text/plain": [
       "107.0"
      ]
     },
     "execution_count": 14,
     "metadata": {},
     "output_type": "execute_result"
    }
   ],
   "source": [
    "data.runtime.median()"
   ]
  },
  {
   "cell_type": "code",
   "execution_count": 15,
   "metadata": {
    "colab": {},
    "colab_type": "code",
    "id": "iBROplKnVp-v"
   },
   "outputs": [],
   "source": [
    "answers['5'] = '107'  # \"+\""
   ]
  },
  {
   "cell_type": "markdown",
   "metadata": {
    "colab_type": "text",
    "id": "39P-deDSVp-y"
   },
   "source": [
    "# 6. Какой самый прибыльный фильм?\n",
    "#### Внимание! Здесь и далее под «прибылью» или «убытками» понимается разность между сборами и бюджетом фильма. (прибыль = сборы - бюджет) в нашем датасете это будет (profit = revenue - budget) "
   ]
  },
  {
   "cell_type": "code",
   "execution_count": 16,
   "metadata": {},
   "outputs": [
    {
     "data": {
      "text/plain": [
       "239    Avatar\n",
       "Name: original_title, dtype: object"
      ]
     },
     "execution_count": 16,
     "metadata": {},
     "output_type": "execute_result"
    }
   ],
   "source": [
    "data.original_title[data.profit == data.profit.max()]  # колонка profit расчитана в начале файла\n"
   ]
  },
  {
   "cell_type": "code",
   "execution_count": 17,
   "metadata": {
    "colab": {},
    "colab_type": "code",
    "id": "UYZh4T9WVp-y"
   },
   "outputs": [],
   "source": [
    "answers['6'] = 'Avatar'  # \"+\"\n"
   ]
  },
  {
   "cell_type": "markdown",
   "metadata": {
    "colab_type": "text",
    "id": "M99JmIX4Vp-2"
   },
   "source": [
    "# 7. Какой фильм самый убыточный? "
   ]
  },
  {
   "cell_type": "code",
   "execution_count": 18,
   "metadata": {},
   "outputs": [
    {
     "data": {
      "text/plain": [
       "1245    The Lone Ranger\n",
       "Name: original_title, dtype: object"
      ]
     },
     "execution_count": 18,
     "metadata": {},
     "output_type": "execute_result"
    }
   ],
   "source": [
    "data.original_title[data.profit == data.profit.min()]\n"
   ]
  },
  {
   "cell_type": "code",
   "execution_count": 20,
   "metadata": {
    "colab": {},
    "colab_type": "code",
    "id": "w-D2m4XPVp-3"
   },
   "outputs": [],
   "source": [
    "answers['7'] = 'The Lone Ranger'  # \"+\"\n"
   ]
  },
  {
   "cell_type": "markdown",
   "metadata": {
    "colab_type": "text",
    "id": "wEOM5ERVVp-6"
   },
   "source": [
    "# 8. У скольких фильмов из датасета объем сборов оказался выше бюджета?"
   ]
  },
  {
   "cell_type": "code",
   "execution_count": 21,
   "metadata": {},
   "outputs": [
    {
     "data": {
      "text/plain": [
       "1478"
      ]
     },
     "execution_count": 21,
     "metadata": {},
     "output_type": "execute_result"
    }
   ],
   "source": [
    "len(data.query('revenue > budget'))\n"
   ]
  },
  {
   "cell_type": "code",
   "execution_count": 22,
   "metadata": {
    "colab": {},
    "colab_type": "code",
    "id": "y00_7HD6Vp-7"
   },
   "outputs": [],
   "source": [
    "answers['8'] = '1478'  # \"+\"\n"
   ]
  },
  {
   "cell_type": "markdown",
   "metadata": {
    "colab_type": "text",
    "id": "xhpspA9KVp_A"
   },
   "source": [
    "# 9. Какой фильм оказался самым кассовым в 2008 году?"
   ]
  },
  {
   "cell_type": "code",
   "execution_count": 23,
   "metadata": {
    "colab": {},
    "colab_type": "code",
    "id": "MoUyQr9RVp_B"
   },
   "outputs": [
    {
     "data": {
      "text/plain": [
       "599    The Dark Knight\n",
       "Name: original_title, dtype: object"
      ]
     },
     "execution_count": 23,
     "metadata": {},
     "output_type": "execute_result"
    }
   ],
   "source": [
    "data.query('release_year == 2008').query('revenue == revenue.max()').original_title\n"
   ]
  },
  {
   "cell_type": "code",
   "execution_count": 24,
   "metadata": {},
   "outputs": [],
   "source": [
    "answers['9'] = 'The Dark Knight'  # \"+\"\n"
   ]
  },
  {
   "cell_type": "markdown",
   "metadata": {
    "colab_type": "text",
    "id": "Zi4hDKidVp_F"
   },
   "source": [
    "# 10. Самый убыточный фильм за период с 2012 по 2014 г. (включительно)?\n"
   ]
  },
  {
   "cell_type": "code",
   "execution_count": 25,
   "metadata": {},
   "outputs": [
    {
     "data": {
      "text/plain": [
       "1245    The Lone Ranger\n",
       "Name: original_title, dtype: object"
      ]
     },
     "execution_count": 25,
     "metadata": {},
     "output_type": "execute_result"
    }
   ],
   "source": [
    "data.query('release_year >= 2012 & release_year <= 2014').query('profit == profit.min()').original_title\n"
   ]
  },
  {
   "cell_type": "code",
   "execution_count": 26,
   "metadata": {
    "colab": {},
    "colab_type": "code",
    "id": "XqyRmufJVp_F"
   },
   "outputs": [],
   "source": [
    "answers['10'] = 'The Lone Ranger'  # \"+\" \n"
   ]
  },
  {
   "cell_type": "markdown",
   "metadata": {
    "colab_type": "text",
    "id": "EA7Sa9dkVp_I"
   },
   "source": [
    "# 11. Какого жанра фильмов больше всего?"
   ]
  },
  {
   "cell_type": "code",
   "execution_count": 27,
   "metadata": {
    "colab": {},
    "colab_type": "code",
    "id": "zsJAwJ8QVp_J"
   },
   "outputs": [
    {
     "data": {
      "text/plain": [
       "'Drama'"
      ]
     },
     "execution_count": 27,
     "metadata": {},
     "output_type": "execute_result"
    }
   ],
   "source": [
    "genres = []  # создадим лист для записи жанров в каждой строке\n",
    "\n",
    "# Парсим каждую запись в колонке genres\n",
    "for genres_row in range(0, len(data)):\n",
    "    genres_i = data.genres[genres_row].split(sep='|')\n",
    "    for genre in range(0, len(genres_i)):\n",
    "        genres.append(genres_i[genre])\n",
    "\n",
    "# Расчитываем количество жанров в листе и выбираем жанр, встречающийся чаще всего\n",
    "max(set(genres), key=genres.count)\n"
   ]
  },
  {
   "cell_type": "code",
   "execution_count": 28,
   "metadata": {},
   "outputs": [],
   "source": [
    "answers['11'] = 'Drama'\n"
   ]
  },
  {
   "cell_type": "markdown",
   "metadata": {
    "colab_type": "text",
    "id": "Ax6g2C8SVp_M"
   },
   "source": [
    "ВАРИАНТ 2"
   ]
  },
  {
   "cell_type": "code",
   "execution_count": 29,
   "metadata": {
    "colab": {},
    "colab_type": "code",
    "id": "otO3SbrSVp_N"
   },
   "outputs": [
    {
     "data": {
      "text/plain": [
       "[('Drama', 782)]"
      ]
     },
     "execution_count": 29,
     "metadata": {},
     "output_type": "execute_result"
    }
   ],
   "source": [
    "# Вариант 2\n",
    "max(set(data.genres.str.split('|').sum()), key=data.genres.str.split('|').sum().count)\n",
    "\n",
    "# Вариант 3\n",
    "Counter(data.genres.str.split('|').sum()).most_common(1)\n"
   ]
  },
  {
   "cell_type": "markdown",
   "metadata": {
    "colab_type": "text",
    "id": "T9_bPWpkVp_Q"
   },
   "source": [
    "# 12. Фильмы какого жанра чаще всего становятся прибыльными? "
   ]
  },
  {
   "cell_type": "code",
   "execution_count": 30,
   "metadata": {},
   "outputs": [
    {
     "data": {
      "text/plain": [
       "[('Drama', 560)]"
      ]
     },
     "execution_count": 30,
     "metadata": {},
     "output_type": "execute_result"
    }
   ],
   "source": [
    "Counter(data.query('profit > 0').genres.str.split('|').sum()).most_common(1)\n"
   ]
  },
  {
   "cell_type": "code",
   "execution_count": 31,
   "metadata": {
    "colab": {},
    "colab_type": "code",
    "id": "Tmt8MaK1Vp_R"
   },
   "outputs": [],
   "source": [
    "answers['12'] = 'Drama'  # \"+\" \n"
   ]
  },
  {
   "cell_type": "markdown",
   "metadata": {
    "colab_type": "text",
    "id": "0F23bgsDVp_U"
   },
   "source": [
    "# 13. У какого режиссера самые большие суммарные кассовые сборы?"
   ]
  },
  {
   "cell_type": "code",
   "execution_count": 32,
   "metadata": {},
   "outputs": [
    {
     "data": {
      "text/plain": [
       "'Peter Jackson'"
      ]
     },
     "execution_count": 32,
     "metadata": {},
     "output_type": "execute_result"
    }
   ],
   "source": [
    "data.groupby('director').revenue.sum().sort_values(ascending = False).reset_index().director[0]\n"
   ]
  },
  {
   "cell_type": "code",
   "execution_count": 34,
   "metadata": {
    "colab": {},
    "colab_type": "code",
    "id": "K6Z3J8ygVp_X"
   },
   "outputs": [],
   "source": [
    "answers['13'] = 'Peter Jackson'  # \"+\" \n"
   ]
  },
  {
   "cell_type": "markdown",
   "metadata": {
    "colab_type": "text",
    "id": "PsYC9FgRVp_a"
   },
   "source": [
    "# 14. Какой режисер снял больше всего фильмов в стиле Action?"
   ]
  },
  {
   "cell_type": "code",
   "execution_count": 40,
   "metadata": {},
   "outputs": [
    {
     "data": {
      "text/plain": [
       "[('Robert Rodriguez', 9)]"
      ]
     },
     "execution_count": 40,
     "metadata": {},
     "output_type": "execute_result"
    }
   ],
   "source": [
    "Counter(data[data.genres.str.contains('Action')].director.str.split('|').sum()).most_common(1)\n"
   ]
  },
  {
   "cell_type": "code",
   "execution_count": 41,
   "metadata": {
    "colab": {},
    "colab_type": "code",
    "id": "wd2M-wHeVp_b"
   },
   "outputs": [],
   "source": [
    "answers['14'] = 'Robert Rodriguez'  # \"+\" \n"
   ]
  },
  {
   "cell_type": "markdown",
   "metadata": {
    "colab_type": "text",
    "id": "PQ0KciD7Vp_f"
   },
   "source": [
    "# 15. Фильмы с каким актером принесли самые высокие кассовые сборы в 2012 году? "
   ]
  },
  {
   "cell_type": "code",
   "execution_count": 42,
   "metadata": {
    "colab": {},
    "colab_type": "code",
    "id": "aga62oeKVp_g"
   },
   "outputs": [
    {
     "data": {
      "text/plain": [
       "['Robert Downey Jr.',\n",
       " 'Chris Evans',\n",
       " 'Mark Ruffalo',\n",
       " 'Chris Hemsworth',\n",
       " 'Scarlett Johansson']"
      ]
     },
     "execution_count": 42,
     "metadata": {},
     "output_type": "execute_result"
    }
   ],
   "source": [
    "data.query('release_year == 2012').query('revenue == revenue.max()').cast.str.split('|').sum()"
   ]
  },
  {
   "cell_type": "code",
   "execution_count": 44,
   "metadata": {},
   "outputs": [],
   "source": [
    "answers['15'] = 'Chris Hemsworth'  # \"+\" \n"
   ]
  },
  {
   "cell_type": "markdown",
   "metadata": {
    "colab_type": "text",
    "id": "mWHyyL7QVp_j"
   },
   "source": [
    "# 16. Какой актер снялся в большем количестве высокобюджетных фильмов?"
   ]
  },
  {
   "cell_type": "code",
   "execution_count": 45,
   "metadata": {
    "colab": {},
    "colab_type": "code",
    "id": "qQtmHKTFVp_k"
   },
   "outputs": [
    {
     "data": {
      "text/plain": [
       "[('Matt Damon', 18)]"
      ]
     },
     "execution_count": 45,
     "metadata": {},
     "output_type": "execute_result"
    }
   ],
   "source": [
    "Counter(data.query('budget > budget.mean()').cast.str.split('|').sum()).most_common(1)"
   ]
  },
  {
   "cell_type": "code",
   "execution_count": 46,
   "metadata": {},
   "outputs": [],
   "source": [
    "answers['16'] = 'Matt Damon'  # \"+\" "
   ]
  },
  {
   "cell_type": "markdown",
   "metadata": {
    "colab_type": "text",
    "id": "NIh6AaW5Vp_n"
   },
   "source": [
    "# 17. В фильмах какого жанра больше всего снимался Nicolas Cage? "
   ]
  },
  {
   "cell_type": "code",
   "execution_count": 47,
   "metadata": {
    "colab": {},
    "colab_type": "code",
    "id": "H74SJDIBVp_n"
   },
   "outputs": [
    {
     "data": {
      "text/plain": [
       "[('Action', 17)]"
      ]
     },
     "execution_count": 47,
     "metadata": {},
     "output_type": "execute_result"
    }
   ],
   "source": [
    "Counter(data[data.cast.str.contains('Nicolas Cage')].genres.str.split('|').sum()).most_common(1)"
   ]
  },
  {
   "cell_type": "code",
   "execution_count": 49,
   "metadata": {},
   "outputs": [],
   "source": [
    "answers['17'] = 'Action'  # \"+\" "
   ]
  },
  {
   "cell_type": "markdown",
   "metadata": {
    "colab_type": "text",
    "id": "RqOmPRfWVp_q"
   },
   "source": [
    "# 18. Самый убыточный фильм от Paramount Pictures"
   ]
  },
  {
   "cell_type": "code",
   "execution_count": 50,
   "metadata": {
    "colab": {},
    "colab_type": "code",
    "id": "9E_B0Y96Vp_r"
   },
   "outputs": [
    {
     "data": {
      "text/plain": [
       "925    K-19: The Widowmaker\n",
       "Name: original_title, dtype: object"
      ]
     },
     "execution_count": 50,
     "metadata": {},
     "output_type": "execute_result"
    }
   ],
   "source": [
    "data[data.production_companies.str.contains('Paramount Pictures')].query('profit == profit.min()').original_title\n"
   ]
  },
  {
   "cell_type": "code",
   "execution_count": 51,
   "metadata": {},
   "outputs": [],
   "source": [
    "answers['18'] = 'K-19: The Widowmaker'  # \"+\" \n"
   ]
  },
  {
   "cell_type": "markdown",
   "metadata": {
    "colab_type": "text",
    "id": "vS8Ur6ddVp_u"
   },
   "source": [
    "# 19. Какой год стал самым успешным по суммарным кассовым сборам?"
   ]
  },
  {
   "cell_type": "code",
   "execution_count": 52,
   "metadata": {
    "colab": {},
    "colab_type": "code",
    "id": "Dnbt4GdIVp_v"
   },
   "outputs": [
    {
     "data": {
      "text/plain": [
       "release_year           2015\n",
       "revenue         25449202382\n",
       "dtype: int64"
      ]
     },
     "execution_count": 52,
     "metadata": {},
     "output_type": "execute_result"
    }
   ],
   "source": [
    "data.groupby(['release_year']).revenue.sum().reset_index().max()\n"
   ]
  },
  {
   "cell_type": "code",
   "execution_count": 53,
   "metadata": {},
   "outputs": [],
   "source": [
    "answers['19'] = '2015'  # \"+\" \n"
   ]
  },
  {
   "cell_type": "markdown",
   "metadata": {
    "colab_type": "text",
    "id": "JAzJh4QAVp_z"
   },
   "source": [
    "# 20. Какой самый прибыльный год для студии Warner Bros?"
   ]
  },
  {
   "cell_type": "code",
   "execution_count": 54,
   "metadata": {
    "colab": {},
    "colab_type": "code",
    "id": "wgVu02DEVp_0"
   },
   "outputs": [
    {
     "data": {
      "text/html": [
       "<div>\n",
       "<style scoped>\n",
       "    .dataframe tbody tr th:only-of-type {\n",
       "        vertical-align: middle;\n",
       "    }\n",
       "\n",
       "    .dataframe tbody tr th {\n",
       "        vertical-align: top;\n",
       "    }\n",
       "\n",
       "    .dataframe thead th {\n",
       "        text-align: right;\n",
       "    }\n",
       "</style>\n",
       "<table border=\"1\" class=\"dataframe\">\n",
       "  <thead>\n",
       "    <tr style=\"text-align: right;\">\n",
       "      <th></th>\n",
       "      <th>release_year</th>\n",
       "      <th>profit</th>\n",
       "    </tr>\n",
       "  </thead>\n",
       "  <tbody>\n",
       "    <tr>\n",
       "      <th>14</th>\n",
       "      <td>2014</td>\n",
       "      <td>2295464519</td>\n",
       "    </tr>\n",
       "  </tbody>\n",
       "</table>\n",
       "</div>"
      ],
      "text/plain": [
       "    release_year      profit\n",
       "14          2014  2295464519"
      ]
     },
     "execution_count": 54,
     "metadata": {},
     "output_type": "execute_result"
    }
   ],
   "source": [
    "# отдельный датасет с записями о Warner Bros\n",
    "warner_profit = data[data.production_companies.str.contains('Warner Bros')]\n",
    "\n",
    "warner_profit.groupby(['release_year']).profit.sum().reset_index().query('profit == profit.max()')\n"
   ]
  },
  {
   "cell_type": "code",
   "execution_count": 55,
   "metadata": {},
   "outputs": [],
   "source": [
    "answers['20'] = '2014'  # \"+\" \n"
   ]
  },
  {
   "cell_type": "markdown",
   "metadata": {
    "colab_type": "text",
    "id": "8Im1S2HRVp_4"
   },
   "source": [
    "# 21. В каком месяце за все годы суммарно вышло больше всего фильмов?"
   ]
  },
  {
   "cell_type": "code",
   "execution_count": 56,
   "metadata": {
    "colab": {},
    "colab_type": "code",
    "id": "lev6TH7gVp_4"
   },
   "outputs": [
    {
     "data": {
      "text/html": [
       "<div>\n",
       "<style scoped>\n",
       "    .dataframe tbody tr th:only-of-type {\n",
       "        vertical-align: middle;\n",
       "    }\n",
       "\n",
       "    .dataframe tbody tr th {\n",
       "        vertical-align: top;\n",
       "    }\n",
       "\n",
       "    .dataframe thead th {\n",
       "        text-align: right;\n",
       "    }\n",
       "</style>\n",
       "<table border=\"1\" class=\"dataframe\">\n",
       "  <thead>\n",
       "    <tr style=\"text-align: right;\">\n",
       "      <th></th>\n",
       "      <th>release_date</th>\n",
       "      <th>cnt</th>\n",
       "    </tr>\n",
       "  </thead>\n",
       "  <tbody>\n",
       "    <tr>\n",
       "      <th>8</th>\n",
       "      <td>9</td>\n",
       "      <td>227</td>\n",
       "    </tr>\n",
       "  </tbody>\n",
       "</table>\n",
       "</div>"
      ],
      "text/plain": [
       "   release_date  cnt\n",
       "8             9  227"
      ]
     },
     "execution_count": 56,
     "metadata": {},
     "output_type": "execute_result"
    }
   ],
   "source": [
    "# Отдельный датафрейм со вычислением количества фильмов по годам\n",
    "movies_cnt_by_year = data.groupby(data['release_date'].dt.month).size().reset_index()\n",
    "\n",
    "# Переименуем колонки для удобства\n",
    "movies_cnt_by_year.columns = ['release_date', 'cnt']\n",
    "\n",
    "# Отфильтруем год с максимальным количеством фильмов\n",
    "movies_cnt_by_year.query('cnt == cnt.max()')\n"
   ]
  },
  {
   "cell_type": "code",
   "execution_count": 57,
   "metadata": {},
   "outputs": [],
   "source": [
    "answers['21'] = 'Сентябрь'  # \"+\" "
   ]
  },
  {
   "cell_type": "markdown",
   "metadata": {
    "colab_type": "text",
    "id": "uAJsZ_NeVp_7"
   },
   "source": [
    "# 22. Сколько суммарно вышло фильмов летом? (за июнь, июль, август)"
   ]
  },
  {
   "cell_type": "code",
   "execution_count": 58,
   "metadata": {
    "colab": {},
    "colab_type": "code",
    "id": "Aa-hEREoVp_8"
   },
   "outputs": [
    {
     "data": {
      "text/plain": [
       "450"
      ]
     },
     "execution_count": 58,
     "metadata": {},
     "output_type": "execute_result"
    }
   ],
   "source": [
    "len(data.query('release_date.dt.month in [6, 7, 8]'))\n"
   ]
  },
  {
   "cell_type": "code",
   "execution_count": 59,
   "metadata": {},
   "outputs": [],
   "source": [
    "answers['22'] = '450'  # \"+\" \n"
   ]
  },
  {
   "cell_type": "markdown",
   "metadata": {
    "colab_type": "text",
    "id": "G94ppOY1VqAA"
   },
   "source": [
    "# 23. Для какого режиссера зима – самое продуктивное время года? "
   ]
  },
  {
   "cell_type": "code",
   "execution_count": 60,
   "metadata": {
    "colab": {},
    "colab_type": "code",
    "id": "RhNTsamuVqAB"
   },
   "outputs": [
    {
     "data": {
      "text/plain": [
       "[('Peter Jackson', 7)]"
      ]
     },
     "execution_count": 60,
     "metadata": {},
     "output_type": "execute_result"
    }
   ],
   "source": [
    "Counter(data.query('release_date.dt.month in [1, 2, 12]').director.str.split('|').sum()).most_common(1)\n"
   ]
  },
  {
   "cell_type": "code",
   "execution_count": 61,
   "metadata": {},
   "outputs": [],
   "source": [
    "answers['23'] = 'Peter Jackson'  # \"+\" \n"
   ]
  },
  {
   "cell_type": "markdown",
   "metadata": {
    "colab_type": "text",
    "id": "RBo0JVjVVqAF"
   },
   "source": [
    "# 24. Какая студия дает самые длинные названия своим фильмам по количеству символов?"
   ]
  },
  {
   "cell_type": "code",
   "execution_count": 62,
   "metadata": {
    "colab": {},
    "colab_type": "code",
    "id": "QRGS8L0iVqAG"
   },
   "outputs": [
    {
     "data": {
      "text/plain": [
       "Four By Two Productions    83.0\n",
       "dtype: float64"
      ]
     },
     "execution_count": 62,
     "metadata": {},
     "output_type": "execute_result"
    }
   ],
   "source": [
    "# уникальный список студий\n",
    "companies = data.production_companies.str.split('|').explode().unique()\n",
    "\n",
    "# серия, в которой будем записывать студию и длину названий\n",
    "title_length = pd.Series(index = companies, dtype = 'float64') \n",
    "\n",
    "# вычислим среднюю длину названий для каждой студии\n",
    "for company in companies:\n",
    "    title_length[company] = data['title_len'][data['production_companies'].map(lambda x: True if company in x else False)].mean()\n",
    "\n",
    "# ответ\n",
    "title_length.sort_values(ascending = False).head(1)"
   ]
  },
  {
   "cell_type": "code",
   "execution_count": 63,
   "metadata": {},
   "outputs": [],
   "source": [
    "answers['24'] = 'Four By Two Productions'  # \"+\" \n"
   ]
  },
  {
   "cell_type": "markdown",
   "metadata": {
    "colab_type": "text",
    "id": "9G0hbvR7VqAK"
   },
   "source": [
    "# 25. Описание фильмов какой студии в среднем самые длинные по количеству слов?"
   ]
  },
  {
   "cell_type": "code",
   "execution_count": 65,
   "metadata": {
    "colab": {},
    "colab_type": "code",
    "id": "Ge2GsLNxVqAK"
   },
   "outputs": [
    {
     "data": {
      "text/plain": [
       "Midnight Picture Show    1000.0\n",
       "dtype: float64"
      ]
     },
     "execution_count": 65,
     "metadata": {},
     "output_type": "execute_result"
    }
   ],
   "source": [
    "# серия, в которой будем записывать студию и длину описаний\n",
    "overview_length = pd.Series(index = companies, dtype = 'float64') # серия, в которой будем записывать компанию и длину названий\n",
    "\n",
    "# вычислим среднюю длину описаний для каждой студии\n",
    "for company in companies:\n",
    "    overview_length[company] = data['overview_len'][data['production_companies'].map(lambda x: True if company in x else False)].mean()\n",
    "    \n",
    "# ответ\n",
    "overview_length.sort_values(ascending = False).head(1)\n"
   ]
  },
  {
   "cell_type": "code",
   "execution_count": 66,
   "metadata": {},
   "outputs": [],
   "source": [
    "answers['25'] = 'Midnight Picture Show'  # \"+\" \n"
   ]
  },
  {
   "cell_type": "markdown",
   "metadata": {
    "colab_type": "text",
    "id": "FJ1AFt90VqAP"
   },
   "source": [
    "# 26. Какие фильмы входят в 1 процент лучших по рейтингу? \n",
    "по vote_average"
   ]
  },
  {
   "cell_type": "code",
   "execution_count": 67,
   "metadata": {
    "colab": {},
    "colab_type": "code",
    "id": "8qmJVq4CVqAQ"
   },
   "outputs": [
    {
     "data": {
      "text/plain": [
       "1191                                     12 Years a Slave\n",
       "316                                              3 Idiots\n",
       "124                                            Big Hero 6\n",
       "1213                                   Dallas Buyers Club\n",
       "1563                Eternal Sunshine of the Spotless Mind\n",
       "128                                             Gone Girl\n",
       "119                               Guardians of the Galaxy\n",
       "1188                                                  Her\n",
       "370                                             Inception\n",
       "9                                              Inside Out\n",
       "118                                          Interstellar\n",
       "1800                                              Memento\n",
       "283                                            Mr. Nobody\n",
       "1205                                            Prisoners\n",
       "34                                                   Room\n",
       "28                                              Spotlight\n",
       "599                                       The Dark Knight\n",
       "177                                The Fault in Our Stars\n",
       "138                              The Grand Budapest Hotel\n",
       "125                                    The Imitation Game\n",
       "496     The Lord of the Rings: The Fellowship of the Ring\n",
       "1081        The Lord of the Rings: The Return of the King\n",
       "863                 The Lord of the Rings: The Two Towers\n",
       "872                                           The Pianist\n",
       "1444                                         The Prestige\n",
       "155                              The Theory of Everything\n",
       "1183                              The Wolf of Wall Street\n",
       "1688                                  There Will Be Blood\n",
       "Name: original_title, dtype: object"
      ]
     },
     "execution_count": 67,
     "metadata": {},
     "output_type": "execute_result"
    }
   ],
   "source": [
    "# Находим через квантиль\n",
    "data.query('vote_average >= vote_average.quantile(0.99)').original_title.sort_values()\n"
   ]
  },
  {
   "cell_type": "code",
   "execution_count": 68,
   "metadata": {},
   "outputs": [],
   "source": [
    "answers['26'] = ['Inside Out', 'The Dark Knight', ' 12 Years a Slave']  # \"+\" \n"
   ]
  },
  {
   "cell_type": "markdown",
   "metadata": {
    "colab_type": "text",
    "id": "MdXsUXbCVqAV"
   },
   "source": [
    "# 27. Какие актеры чаще всего снимаются в одном фильме вместе?\n"
   ]
  },
  {
   "cell_type": "code",
   "execution_count": 71,
   "metadata": {},
   "outputs": [
    {
     "data": {
      "text/plain": [
       "[(('Daniel Radcliffe', 'Rupert Grint'), 8),\n",
       " (('Daniel Radcliffe', 'Emma Watson'), 8),\n",
       " (('Rupert Grint', 'Emma Watson'), 7),\n",
       " (('Ben Stiller', 'Owen Wilson'), 6),\n",
       " (('Johnny Depp', 'Helena Bonham Carter'), 6)]"
      ]
     },
     "execution_count": 71,
     "metadata": {},
     "output_type": "execute_result"
    }
   ],
   "source": [
    "# Колонки созданы в начале файла\n",
    "list1 = data.cast_together.tolist()  # склеиваем результат колонки cast_together в list of lists\n",
    "list2 = list(itertools.chain(*list1))  # превращаем list of lists в единый лист\n",
    "\n",
    "Counter(list2).most_common(5)  # расчитываем количество пар и выбираем наиболее часто встречающиеся"
   ]
  },
  {
   "cell_type": "code",
   "execution_count": 72,
   "metadata": {},
   "outputs": [],
   "source": [
    "answers['27'] = ['Daniel Radcliffe', 'Rupert Grint']  # \"+\" \n"
   ]
  },
  {
   "cell_type": "markdown",
   "metadata": {
    "colab_type": "text",
    "id": "4ymnxEVoVqAW"
   },
   "source": [
    "ВАРИАНТ 2"
   ]
  },
  {
   "cell_type": "markdown",
   "metadata": {
    "colab_type": "text",
    "id": "U0nONFnGVqAX"
   },
   "source": [
    "# Submission"
   ]
  },
  {
   "cell_type": "code",
   "execution_count": 73,
   "metadata": {
    "colab": {},
    "colab_type": "code",
    "id": "IfcaRO9-VqAX",
    "outputId": "0f132912-32bb-4196-c98c-abfbc4ad5a5f"
   },
   "outputs": [
    {
     "data": {
      "text/plain": [
       "{'1': 'Pirates of the Caribbean: On Stranger Tides',\n",
       " '2': 'Gods and Generals',\n",
       " '3': 'Winnie the Pooh',\n",
       " '4': '110',\n",
       " '5': '107',\n",
       " '6': 'Avatar',\n",
       " '7': 'The Lone Ranger',\n",
       " '8': '1478',\n",
       " '9': 'The Dark Knight',\n",
       " '10': 'The Lone Ranger',\n",
       " '11': 'Drama',\n",
       " '12': 'Drama',\n",
       " '13': 'Peter Jackson',\n",
       " '14': 'Robert Rodriguez',\n",
       " '15': 'Chris Hemsworth',\n",
       " '16': 'Matt Damon',\n",
       " '17': 'Action',\n",
       " '18': 'K-19: The Widowmaker',\n",
       " '19': '2015',\n",
       " '20': '2014',\n",
       " '21': 'Сентябрь',\n",
       " '22': '450',\n",
       " '23': 'Peter Jackson',\n",
       " '24': 'Four By Two Productions',\n",
       " '25': 'Midnight Picture Show',\n",
       " '26': ['Inside Out', 'The Dark Knight', ' 12 Years a Slave'],\n",
       " '27': ['Daniel Radcliffe', 'Rupert Grint']}"
      ]
     },
     "execution_count": 73,
     "metadata": {},
     "output_type": "execute_result"
    }
   ],
   "source": [
    "# в конце можно посмотреть свои ответы к каждому вопросу\n",
    "answers"
   ]
  },
  {
   "cell_type": "code",
   "execution_count": 74,
   "metadata": {
    "colab": {},
    "colab_type": "code",
    "id": "SiRmHPl8VqAd"
   },
   "outputs": [
    {
     "data": {
      "text/plain": [
       "27"
      ]
     },
     "execution_count": 74,
     "metadata": {},
     "output_type": "execute_result"
    }
   ],
   "source": [
    "# и убедиться что ни чего не пропустил)\n",
    "len(answers)"
   ]
  }
 ],
 "metadata": {
  "colab": {
   "name": "Copy of [SF-DST] Movies IMBD v4.1 TEMPLATE.ipynb",
   "provenance": []
  },
  "kernelspec": {
   "display_name": "Python 3",
   "language": "python",
   "name": "python3"
  },
  "language_info": {
   "codemirror_mode": {
    "name": "ipython",
    "version": 3
   },
   "file_extension": ".py",
   "mimetype": "text/x-python",
   "name": "python",
   "nbconvert_exporter": "python",
   "pygments_lexer": "ipython3",
   "version": "3.8.5"
  }
 },
 "nbformat": 4,
 "nbformat_minor": 1
}
